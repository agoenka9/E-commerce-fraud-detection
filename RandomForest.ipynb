{
 "cells": [
  {
   "cell_type": "markdown",
   "metadata": {},
   "source": [
    "# E-commerce Fraud Detection Analysis"
   ]
  },
  {
   "cell_type": "markdown",
   "metadata": {},
   "source": [
    "### Load libraries"
   ]
  },
  {
   "cell_type": "code",
   "execution_count": 1,
   "metadata": {},
   "outputs": [
    {
     "name": "stderr",
     "output_type": "stream",
     "text": [
      "C:\\Users\\MyPC\\Anaconda3\\lib\\site-packages\\sklearn\\externals\\joblib\\__init__.py:15: FutureWarning: sklearn.externals.joblib is deprecated in 0.21 and will be removed in 0.23. Please import this functionality directly from joblib, which can be installed with: pip install joblib. If this warning is raised when loading pickled models, you may need to re-serialize those models with scikit-learn 0.21+.\n",
      "  warnings.warn(msg, category=FutureWarning)\n",
      "Using TensorFlow backend.\n"
     ]
    }
   ],
   "source": [
    "import pickle\n",
    "import pandas as pd\n",
    "import numpy as np\n",
    "from matplotlib import pyplot as plt\n",
    "import seaborn as sb\n",
    "\n",
    "from sklearn.ensemble import RandomForestClassifier\n",
    "from sklearn.compose import ColumnTransformer\n",
    "from sklearn.preprocessing import StandardScaler\n",
    "from sklearn.model_selection import train_test_split, GridSearchCV, KFold, StratifiedKFold\n",
    "from sklearn.metrics import confusion_matrix,  roc_auc_score, roc_curve\n",
    "from sklearn.externals import joblib \n",
    "\n",
    "from skopt import BayesSearchCV\n",
    "\n",
    "from imblearn.under_sampling import RandomUnderSampler # doctest: +NORMALIZE_WHITESPACE\n",
    "from imblearn.pipeline import Pipeline # doctest: +NORMALIZE_WHITESPACE\n",
    "\n",
    "%matplotlib inline"
   ]
  },
  {
   "cell_type": "code",
   "execution_count": null,
   "metadata": {},
   "outputs": [],
   "source": []
  },
  {
   "cell_type": "markdown",
   "metadata": {},
   "source": [
    "### Load data"
   ]
  },
  {
   "cell_type": "markdown",
   "metadata": {},
   "source": [
    "Random Forest are used on cleanXG_LR.zip dataset. This data set have 2 type of data X1 and X2 with following specifications:\n",
    "- General - Preprocessing applied to all files:\n",
    "    - Features with > 90% data missing or > 90% data with the same value were dropped\n",
    "    - If possible, categorical variables with 100s of categories were mapped to coaser categoricals\n",
    "    - Correlation plot analysis done on \"V\" columns and columns were dropped reduce collinearlity\n",
    "        - https://www.kaggle.com/cdeotte/eda-for-columns-v-and-id\n",
    "    - Some \"D\" columns were normalized for time\n",
    "    - Aggregate features were added using \"magic\" technique\n",
    "        - https://www.kaggle.com/cdeotte/xgb-fraud-with-magic-0-9600#How-the-Magic-Works\n",
    "    - Dropped TransactionID and TransactionDT\n",
    "\n",
    "- XGBoost_LR_{train, test}_X_1.pkl ==> 1323 features\n",
    "    - Full 200 features\n",
    "\t- Dummies created\n",
    "    - NAs filled with -999\n",
    "- XGBoost_LR_{train, test}_X_2.pkl ==> 1303 features\n",
    "    - Removed additional features:\n",
    "        - Highly correlated \"C\", \"D\" features\n",
    "        - Removed features Chris (1st place winners) removed\n",
    "        - Removed caterogical features withh 200+ categories even after 1)\n",
    "    - Dummies created\n",
    "    - NAs filled with -999\n"
   ]
  },
  {
   "cell_type": "code",
   "execution_count": 2,
   "metadata": {},
   "outputs": [],
   "source": [
    "#Load train y data\n",
    "y = pd.read_pickle(\"data/train_y.pkl\")\n"
   ]
  },
  {
   "cell_type": "code",
   "execution_count": 3,
   "metadata": {},
   "outputs": [],
   "source": [
    "#Load train x data\n",
    "X = pd.read_pickle(\"data/cleanXG_LR/XGBoost_LR_train_X_1.pkl\")\n",
    "\n",
    "# Replace Nan (currently -999 in the input dataset) with 0:\n",
    "X = X.replace(-999, 0)"
   ]
  },
  {
   "cell_type": "code",
   "execution_count": 4,
   "metadata": {},
   "outputs": [
    {
     "data": {
      "text/plain": [
       "((590540,), (590540, 1323))"
      ]
     },
     "execution_count": 4,
     "metadata": {},
     "output_type": "execute_result"
    }
   ],
   "source": [
    "y.shape, X.shape"
   ]
  },
  {
   "cell_type": "code",
   "execution_count": 5,
   "metadata": {},
   "outputs": [
    {
     "data": {
      "text/html": [
       "<div>\n",
       "<style scoped>\n",
       "    .dataframe tbody tr th:only-of-type {\n",
       "        vertical-align: middle;\n",
       "    }\n",
       "\n",
       "    .dataframe tbody tr th {\n",
       "        vertical-align: top;\n",
       "    }\n",
       "\n",
       "    .dataframe thead th {\n",
       "        text-align: right;\n",
       "    }\n",
       "</style>\n",
       "<table border=\"1\" class=\"dataframe\">\n",
       "  <thead>\n",
       "    <tr style=\"text-align: right;\">\n",
       "      <th></th>\n",
       "      <th>id_01</th>\n",
       "      <th>id_02</th>\n",
       "      <th>id_03</th>\n",
       "      <th>id_04</th>\n",
       "      <th>id_05</th>\n",
       "      <th>id_06</th>\n",
       "      <th>id_09</th>\n",
       "      <th>id_10</th>\n",
       "      <th>id_11</th>\n",
       "      <th>id_13</th>\n",
       "      <th>...</th>\n",
       "      <th>DeviceInfo_za409</th>\n",
       "      <th>DeviceInfo_za509</th>\n",
       "      <th>DeviceInfo_za990</th>\n",
       "      <th>DeviceInfo_zeia8</th>\n",
       "      <th>DeviceInfo_zte</th>\n",
       "      <th>DeviceInfo_zte a2017u build/nrd90m</th>\n",
       "      <th>DeviceInfo_zte-z835</th>\n",
       "      <th>DeviceInfo_zte-z956</th>\n",
       "      <th>DeviceInfo_zur70016</th>\n",
       "      <th>DeviceInfo_zuum_zen_i build/lrx21m</th>\n",
       "    </tr>\n",
       "  </thead>\n",
       "  <tbody>\n",
       "    <tr>\n",
       "      <th>0</th>\n",
       "      <td>0.0</td>\n",
       "      <td>70787.0</td>\n",
       "      <td>0.0</td>\n",
       "      <td>0.0</td>\n",
       "      <td>0.0</td>\n",
       "      <td>0.0</td>\n",
       "      <td>0.0</td>\n",
       "      <td>0.0</td>\n",
       "      <td>100.0</td>\n",
       "      <td>0.0</td>\n",
       "      <td>...</td>\n",
       "      <td>0</td>\n",
       "      <td>0</td>\n",
       "      <td>0</td>\n",
       "      <td>0</td>\n",
       "      <td>0</td>\n",
       "      <td>0</td>\n",
       "      <td>0</td>\n",
       "      <td>0</td>\n",
       "      <td>0</td>\n",
       "      <td>0</td>\n",
       "    </tr>\n",
       "    <tr>\n",
       "      <th>1</th>\n",
       "      <td>-5.0</td>\n",
       "      <td>98945.0</td>\n",
       "      <td>0.0</td>\n",
       "      <td>0.0</td>\n",
       "      <td>0.0</td>\n",
       "      <td>-5.0</td>\n",
       "      <td>0.0</td>\n",
       "      <td>0.0</td>\n",
       "      <td>100.0</td>\n",
       "      <td>49.0</td>\n",
       "      <td>...</td>\n",
       "      <td>0</td>\n",
       "      <td>0</td>\n",
       "      <td>0</td>\n",
       "      <td>0</td>\n",
       "      <td>0</td>\n",
       "      <td>0</td>\n",
       "      <td>0</td>\n",
       "      <td>0</td>\n",
       "      <td>0</td>\n",
       "      <td>0</td>\n",
       "    </tr>\n",
       "    <tr>\n",
       "      <th>2</th>\n",
       "      <td>-5.0</td>\n",
       "      <td>191631.0</td>\n",
       "      <td>0.0</td>\n",
       "      <td>0.0</td>\n",
       "      <td>0.0</td>\n",
       "      <td>0.0</td>\n",
       "      <td>0.0</td>\n",
       "      <td>0.0</td>\n",
       "      <td>100.0</td>\n",
       "      <td>52.0</td>\n",
       "      <td>...</td>\n",
       "      <td>0</td>\n",
       "      <td>0</td>\n",
       "      <td>0</td>\n",
       "      <td>0</td>\n",
       "      <td>0</td>\n",
       "      <td>0</td>\n",
       "      <td>0</td>\n",
       "      <td>0</td>\n",
       "      <td>0</td>\n",
       "      <td>0</td>\n",
       "    </tr>\n",
       "  </tbody>\n",
       "</table>\n",
       "<p>3 rows × 1323 columns</p>\n",
       "</div>"
      ],
      "text/plain": [
       "   id_01     id_02  id_03  id_04  id_05  id_06  id_09  id_10  id_11  id_13  \\\n",
       "0    0.0   70787.0    0.0    0.0    0.0    0.0    0.0    0.0  100.0    0.0   \n",
       "1   -5.0   98945.0    0.0    0.0    0.0   -5.0    0.0    0.0  100.0   49.0   \n",
       "2   -5.0  191631.0    0.0    0.0    0.0    0.0    0.0    0.0  100.0   52.0   \n",
       "\n",
       "   ...  DeviceInfo_za409  DeviceInfo_za509  DeviceInfo_za990  \\\n",
       "0  ...                 0                 0                 0   \n",
       "1  ...                 0                 0                 0   \n",
       "2  ...                 0                 0                 0   \n",
       "\n",
       "   DeviceInfo_zeia8  DeviceInfo_zte  DeviceInfo_zte a2017u build/nrd90m  \\\n",
       "0                 0               0                                   0   \n",
       "1                 0               0                                   0   \n",
       "2                 0               0                                   0   \n",
       "\n",
       "   DeviceInfo_zte-z835  DeviceInfo_zte-z956  DeviceInfo_zur70016  \\\n",
       "0                    0                    0                    0   \n",
       "1                    0                    0                    0   \n",
       "2                    0                    0                    0   \n",
       "\n",
       "   DeviceInfo_zuum_zen_i build/lrx21m  \n",
       "0                                   0  \n",
       "1                                   0  \n",
       "2                                   0  \n",
       "\n",
       "[3 rows x 1323 columns]"
      ]
     },
     "execution_count": 5,
     "metadata": {},
     "output_type": "execute_result"
    }
   ],
   "source": [
    "X.head(3)"
   ]
  },
  {
   "cell_type": "markdown",
   "metadata": {},
   "source": [
    "### Random Forest - Base Model (Optional?)"
   ]
  },
  {
   "cell_type": "code",
   "execution_count": null,
   "metadata": {},
   "outputs": [],
   "source": []
  },
  {
   "cell_type": "code",
   "execution_count": null,
   "metadata": {},
   "outputs": [],
   "source": []
  },
  {
   "cell_type": "code",
   "execution_count": null,
   "metadata": {},
   "outputs": [],
   "source": []
  },
  {
   "cell_type": "markdown",
   "metadata": {},
   "source": [
    "### Random Forest - 2 nested train-test split"
   ]
  },
  {
   "cell_type": "markdown",
   "metadata": {},
   "source": [
    "### Split training data into training (A) and validation (B)"
   ]
  },
  {
   "cell_type": "code",
   "execution_count": 6,
   "metadata": {},
   "outputs": [],
   "source": [
    "# Specify parameters\n",
    "seed = 123\n",
    "test_size = 0.3 #Testing percentage in train/test split"
   ]
  },
  {
   "cell_type": "code",
   "execution_count": null,
   "metadata": {},
   "outputs": [],
   "source": [
    "# Get a subset of data for debugging (PLEASE SKIP THIS ON ACTUAL RUN)\n",
    "X = X.iloc[:10000,:]\n",
    "y = y.iloc[:10000]"
   ]
  },
  {
   "cell_type": "code",
   "execution_count": 8,
   "metadata": {},
   "outputs": [],
   "source": [
    "# Outer validation for model family comparison: slipt data into training (A) and testing (B)\n",
    "X_A, X_B, y_A, y_B = train_test_split(X, y, test_size = test_size, random_state = seed)\n",
    "\n",
    "# Reset all indices\n",
    "X_A.reset_index(drop = True, inplace = True)\n",
    "X_B.reset_index(drop = True, inplace = True)\n",
    "y_A.reset_index(drop = True, inplace = True)\n",
    "y_B.reset_index(drop = True, inplace = True)"
   ]
  },
  {
   "cell_type": "markdown",
   "metadata": {},
   "source": [
    "### Part A: Parameter tuning on training data (A)"
   ]
  },
  {
   "cell_type": "code",
   "execution_count": null,
   "metadata": {},
   "outputs": [],
   "source": [
    "# Inner validation for parameter tuning within a model family: split data into training (C) and testing (D)\n",
    "# Set up train-test split validation\n",
    "A_ind = np.arange(len(X_A))\n",
    "C_ind, D_ind = train_test_split(A_ind, test_size = test_size, random_state = seed)\n",
    "\n",
    "X_C = X_A.iloc[C_ind,:]\n",
    "y_C = y_A.iloc[C_ind]\n",
    "\n",
    "\n",
    "# Reformat index array to 2D list to be used within \"cv\" context:\n",
    "# Desired format: [ ( [train_ind_fold1], [test_ind_fold1]) , ([train_ind_fold2], [test_ind_fold2]) ]\n",
    "C_ind = list(C_ind) #Train\n",
    "D_ind = list(D_ind) #Test\n",
    "cv = [(C_ind, D_ind)] #(Train indices, Test indices)\n",
    "#list(cv)"
   ]
  },
  {
   "cell_type": "code",
   "execution_count": null,
   "metadata": {},
   "outputs": [],
   "source": [
    "#Get numeric features that need to be scaled to mean 0 and unit variance and unimodal variables to exclude \n",
    "#unimode_list = []\n",
    "binary_list = []\n",
    "thres = 5 #5% of feature value is 1\n",
    "for colname in X_C.columns:\n",
    "    if len(np.unique(X_C[colname])) == 2:\n",
    "        binary_list.append(colname)\n",
    "        #percent_1 = np.sum(X[colname])/len(X[colname])*100\n",
    "\n",
    "        #if percent_1 < thres:\n",
    "        #    unimode_list.append(colname)\n",
    "\n",
    "#print(\"There are %d/%d features that have almost same value btw fraud vs non-fraud\" %(len(unimode_list), len(X.columns)))\n",
    "print('There are %d/%d features that have binary (2) levels {0,1}' %(len(binary_list), X_C.shape[1]))\n",
    "    \n",
    "\n",
    "#List of multivariate numeric features: (Note: We do not scale binary features (values  = {0,1})) \n",
    "numeric_features = list(set(X_C.columns.to_list()) - set(binary_list))\n",
    "print('There are %d/%d numeric features that needs to be scaled' %(len(numeric_features), X_C.shape[1]))"
   ]
  },
  {
   "cell_type": "code",
   "execution_count": null,
   "metadata": {},
   "outputs": [],
   "source": [
    "#Build pipeline to include preprocessing step of scaling multivariate numeric features.\n",
    "numeric_transformer = Pipeline([\n",
    "        ('scaler', StandardScaler())\n",
    "    ])\n",
    "\n",
    "preprocessor = ColumnTransformer([\n",
    "        ('numericals', numeric_transformer, numeric_features)\n",
    "    ])\n",
    "\n",
    "\n",
    "pipeline = Pipeline([\n",
    "        ('preprocessing', preprocessor),\n",
    "        ('clf', RandomForestClassifier(class_weight = 'balanced', random_state = seed))\n",
    "    ])\n"
   ]
  },
  {
   "cell_type": "code",
   "execution_count": null,
   "metadata": {},
   "outputs": [],
   "source": [
    "#Set up search space for parameter\n",
    "params = {   \n",
    "        'clf__n_estimators': (100,200),\n",
    "        'clf__max_depth': (20, 25),\n",
    "        'clf__max_features': ('auto', 'log2', 'sqrt')\n",
    "    }\n"
   ]
  },
  {
   "cell_type": "code",
   "execution_count": null,
   "metadata": {},
   "outputs": [],
   "source": [
    "rf_tuner = BayesSearchCV(estimator = pipeline, search_spaces = params, scoring = 'roc_auc',\\\n",
    "                          cv = cv, n_jobs = 3, n_iter = 5, verbose = 1, refit = True, random_state = seed)"
   ]
  },
  {
   "cell_type": "code",
   "execution_count": null,
   "metadata": {},
   "outputs": [],
   "source": [
    "def status_print(optim_result):    \n",
    "    all_models = pd.DataFrame(rf_tuner.cv_results_)    \n",
    "    \n",
    "    # Get best parameters    \n",
    "    best_params = pd.Series(rf_tuner.best_params_)\n",
    "    print(f'Model {len(all_models)}:\\nBest ROC-AUC:\\\n",
    "    {np.round(rf_tuner.best_score_, 4)}\\nBestparams:{rf_tuner.best_params_}\\n')\n",
    "    \n",
    "    # Save to csv\n",
    "    #clf_name = rg_tuner.estimator.__class__.__name__\n",
    "    #all_models.to_csv(clf_name+\"_cv_results.csv\")"
   ]
  },
  {
   "cell_type": "code",
   "execution_count": null,
   "metadata": {},
   "outputs": [],
   "source": [
    "print('Modeling..')\n",
    "best_rf = rf_tuner.fit(X_A, y_A, callback = status_print)"
   ]
  },
  {
   "cell_type": "code",
   "execution_count": null,
   "metadata": {},
   "outputs": [],
   "source": [
    "best_rf.cv_results_ #Note each split is an iteration. No. splits = no. iterations"
   ]
  },
  {
   "cell_type": "code",
   "execution_count": null,
   "metadata": {
    "scrolled": true
   },
   "outputs": [],
   "source": [
    "best_rf.best_params_"
   ]
  },
  {
   "cell_type": "markdown",
   "metadata": {},
   "source": [
    "### Part B: Retrain model on entire training data (A) and apply on validation data (B)"
   ]
  },
  {
   "cell_type": "markdown",
   "metadata": {},
   "source": [
    "##### Build Model"
   ]
  },
  {
   "cell_type": "code",
   "execution_count": 9,
   "metadata": {},
   "outputs": [
    {
     "name": "stdout",
     "output_type": "stream",
     "text": [
      "There are 169/1323 numeric features that needs to be scaled\n"
     ]
    },
    {
     "name": "stderr",
     "output_type": "stream",
     "text": [
      "C:\\Users\\MyPC\\Anaconda3\\lib\\site-packages\\pandas\\core\\indexing.py:543: SettingWithCopyWarning: \n",
      "A value is trying to be set on a copy of a slice from a DataFrame.\n",
      "Try using .loc[row_indexer,col_indexer] = value instead\n",
      "\n",
      "See the caveats in the documentation: http://pandas.pydata.org/pandas-docs/stable/indexing.html#indexing-view-versus-copy\n",
      "  self.obj[item] = s\n",
      "C:\\Users\\MyPC\\Anaconda3\\lib\\site-packages\\pandas\\core\\indexing.py:543: SettingWithCopyWarning: \n",
      "A value is trying to be set on a copy of a slice from a DataFrame.\n",
      "Try using .loc[row_indexer,col_indexer] = value instead\n",
      "\n",
      "See the caveats in the documentation: http://pandas.pydata.org/pandas-docs/stable/indexing.html#indexing-view-versus-copy\n",
      "  self.obj[item] = s\n"
     ]
    },
    {
     "name": "stdout",
     "output_type": "stream",
     "text": [
      "mean = 0 and variance = 1\n",
      "-6.318563389087296e-17 1.0000000000001137\n"
     ]
    }
   ],
   "source": [
    "# Proprocess data on A - feature scaling\n",
    "\n",
    "# Step 1: get list of feature to scale\n",
    "# Numeric features are those that have more than 2 levels.\n",
    "# We will scale these features to have mean 0 and unit variance and unimodal variables to exclude \n",
    "\n",
    "numeric_features = []\n",
    "thres = 5 #5% of feature value is 1\n",
    "for colname in X_A.columns:\n",
    "    if len(np.unique(X_A[colname])) > 2:\n",
    "        numeric_features.append(colname)\n",
    "\n",
    "print('There are %d/%d numeric features that needs to be scaled' %(len(numeric_features), X_A.shape[1]))\n",
    "\n",
    "# Step 2: train scaler using training data (A) only\n",
    "scaler = StandardScaler().fit(X_A[numeric_features])\n",
    "    \n",
    "# Step 3: apply scaler on  training data (A) and testing data (B)\n",
    "X_A.loc[:,numeric_features] = scaler.transform(X_A.loc[:,numeric_features])\n",
    "X_B.loc[:,numeric_features] = scaler.transform(X_B.loc[:,numeric_features])\n",
    "\n",
    "# Sanity check:\n",
    "rand_ind_check = np.random.randint(len(numeric_features))\n",
    "print('mean = 0 and variance = 1')\n",
    "print(np.mean(X_A.loc[:,numeric_features[rand_ind_check]]), np.std(X_A.loc[:,numeric_features[rand_ind_check]])**2)"
   ]
  },
  {
   "cell_type": "code",
   "execution_count": 10,
   "metadata": {
    "scrolled": true
   },
   "outputs": [
    {
     "data": {
      "text/html": [
       "<div>\n",
       "<style scoped>\n",
       "    .dataframe tbody tr th:only-of-type {\n",
       "        vertical-align: middle;\n",
       "    }\n",
       "\n",
       "    .dataframe tbody tr th {\n",
       "        vertical-align: top;\n",
       "    }\n",
       "\n",
       "    .dataframe thead th {\n",
       "        text-align: right;\n",
       "    }\n",
       "</style>\n",
       "<table border=\"1\" class=\"dataframe\">\n",
       "  <thead>\n",
       "    <tr style=\"text-align: right;\">\n",
       "      <th></th>\n",
       "      <th>id_01</th>\n",
       "      <th>id_02</th>\n",
       "      <th>id_03</th>\n",
       "      <th>id_04</th>\n",
       "      <th>id_05</th>\n",
       "      <th>id_06</th>\n",
       "      <th>id_09</th>\n",
       "      <th>id_10</th>\n",
       "      <th>id_11</th>\n",
       "      <th>id_13</th>\n",
       "      <th>...</th>\n",
       "      <th>DeviceInfo_za409</th>\n",
       "      <th>DeviceInfo_za509</th>\n",
       "      <th>DeviceInfo_za990</th>\n",
       "      <th>DeviceInfo_zeia8</th>\n",
       "      <th>DeviceInfo_zte</th>\n",
       "      <th>DeviceInfo_zte a2017u build/nrd90m</th>\n",
       "      <th>DeviceInfo_zte-z835</th>\n",
       "      <th>DeviceInfo_zte-z956</th>\n",
       "      <th>DeviceInfo_zur70016</th>\n",
       "      <th>DeviceInfo_zuum_zen_i build/lrx21m</th>\n",
       "    </tr>\n",
       "  </thead>\n",
       "  <tbody>\n",
       "    <tr>\n",
       "      <th>0</th>\n",
       "      <td>0.298235</td>\n",
       "      <td>-0.386110</td>\n",
       "      <td>-0.03446</td>\n",
       "      <td>0.02809</td>\n",
       "      <td>-0.142724</td>\n",
       "      <td>0.183549</td>\n",
       "      <td>-0.033623</td>\n",
       "      <td>0.038349</td>\n",
       "      <td>-0.558981</td>\n",
       "      <td>-0.504527</td>\n",
       "      <td>...</td>\n",
       "      <td>0</td>\n",
       "      <td>0</td>\n",
       "      <td>0</td>\n",
       "      <td>0</td>\n",
       "      <td>0</td>\n",
       "      <td>0</td>\n",
       "      <td>0</td>\n",
       "      <td>0</td>\n",
       "      <td>0</td>\n",
       "      <td>0</td>\n",
       "    </tr>\n",
       "    <tr>\n",
       "      <th>1</th>\n",
       "      <td>-2.716796</td>\n",
       "      <td>4.557754</td>\n",
       "      <td>-0.03446</td>\n",
       "      <td>0.02809</td>\n",
       "      <td>0.242032</td>\n",
       "      <td>-1.964258</td>\n",
       "      <td>-0.033623</td>\n",
       "      <td>0.038349</td>\n",
       "      <td>1.794596</td>\n",
       "      <td>1.107012</td>\n",
       "      <td>...</td>\n",
       "      <td>0</td>\n",
       "      <td>0</td>\n",
       "      <td>0</td>\n",
       "      <td>0</td>\n",
       "      <td>0</td>\n",
       "      <td>0</td>\n",
       "      <td>0</td>\n",
       "      <td>0</td>\n",
       "      <td>0</td>\n",
       "      <td>0</td>\n",
       "    </tr>\n",
       "  </tbody>\n",
       "</table>\n",
       "<p>2 rows × 1323 columns</p>\n",
       "</div>"
      ],
      "text/plain": [
       "      id_01     id_02    id_03    id_04     id_05     id_06     id_09  \\\n",
       "0  0.298235 -0.386110 -0.03446  0.02809 -0.142724  0.183549 -0.033623   \n",
       "1 -2.716796  4.557754 -0.03446  0.02809  0.242032 -1.964258 -0.033623   \n",
       "\n",
       "      id_10     id_11     id_13  ...  DeviceInfo_za409  DeviceInfo_za509  \\\n",
       "0  0.038349 -0.558981 -0.504527  ...                 0                 0   \n",
       "1  0.038349  1.794596  1.107012  ...                 0                 0   \n",
       "\n",
       "   DeviceInfo_za990  DeviceInfo_zeia8  DeviceInfo_zte  \\\n",
       "0                 0                 0               0   \n",
       "1                 0                 0               0   \n",
       "\n",
       "   DeviceInfo_zte a2017u build/nrd90m  DeviceInfo_zte-z835  \\\n",
       "0                                   0                    0   \n",
       "1                                   0                    0   \n",
       "\n",
       "   DeviceInfo_zte-z956  DeviceInfo_zur70016  \\\n",
       "0                    0                    0   \n",
       "1                    0                    0   \n",
       "\n",
       "   DeviceInfo_zuum_zen_i build/lrx21m  \n",
       "0                                   0  \n",
       "1                                   0  \n",
       "\n",
       "[2 rows x 1323 columns]"
      ]
     },
     "execution_count": 10,
     "metadata": {},
     "output_type": "execute_result"
    }
   ],
   "source": [
    "X_A.head(2)"
   ]
  },
  {
   "cell_type": "code",
   "execution_count": 12,
   "metadata": {},
   "outputs": [
    {
     "data": {
      "text/plain": [
       "0    0\n",
       "1    0\n",
       "Name: isFraud, dtype: int64"
      ]
     },
     "execution_count": 12,
     "metadata": {},
     "output_type": "execute_result"
    }
   ],
   "source": [
    "y_B.head(2)"
   ]
  },
  {
   "cell_type": "code",
   "execution_count": 11,
   "metadata": {
    "collapsed": true
   },
   "outputs": [
    {
     "ename": "NameError",
     "evalue": "name 'best_rf' is not defined",
     "output_type": "error",
     "traceback": [
      "\u001b[1;31m---------------------------------------------------------------------------\u001b[0m",
      "\u001b[1;31mNameError\u001b[0m                                 Traceback (most recent call last)",
      "\u001b[1;32m<ipython-input-11-1589c34c36c1>\u001b[0m in \u001b[0;36m<module>\u001b[1;34m\u001b[0m\n\u001b[0;32m      1\u001b[0m \u001b[1;31m# Build model using best hyperparameters found and all training data (A)\u001b[0m\u001b[1;33m\u001b[0m\u001b[1;33m\u001b[0m\u001b[1;33m\u001b[0m\u001b[0m\n\u001b[0;32m      2\u001b[0m rf = RandomForestClassifier(\n\u001b[1;32m----> 3\u001b[1;33m                              \u001b[0mmax_depth\u001b[0m \u001b[1;33m=\u001b[0m \u001b[0mbest_rf\u001b[0m\u001b[1;33m.\u001b[0m\u001b[0mbest_params_\u001b[0m\u001b[1;33m[\u001b[0m\u001b[1;34m'clf__max_depth'\u001b[0m\u001b[1;33m]\u001b[0m\u001b[1;33m,\u001b[0m\u001b[1;33m\u001b[0m\u001b[1;33m\u001b[0m\u001b[0m\n\u001b[0m\u001b[0;32m      4\u001b[0m                              \u001b[0mmax_features\u001b[0m \u001b[1;33m=\u001b[0m \u001b[0mbest_rf\u001b[0m\u001b[1;33m.\u001b[0m\u001b[0mbest_params_\u001b[0m\u001b[1;33m[\u001b[0m\u001b[1;34m'clf__max_features'\u001b[0m\u001b[1;33m]\u001b[0m\u001b[1;33m,\u001b[0m\u001b[1;33m\u001b[0m\u001b[1;33m\u001b[0m\u001b[0m\n\u001b[0;32m      5\u001b[0m                              \u001b[0mn_estimators\u001b[0m \u001b[1;33m=\u001b[0m \u001b[0mbest_rf\u001b[0m\u001b[1;33m.\u001b[0m\u001b[0mbest_params_\u001b[0m\u001b[1;33m[\u001b[0m\u001b[1;34m'clf__n_estimators'\u001b[0m\u001b[1;33m]\u001b[0m\u001b[1;33m,\u001b[0m\u001b[1;33m\u001b[0m\u001b[1;33m\u001b[0m\u001b[0m\n",
      "\u001b[1;31mNameError\u001b[0m: name 'best_rf' is not defined"
     ]
    }
   ],
   "source": [
    "# Build model using best hyperparameters found and all training data (A)\n",
    "rf = RandomForestClassifier(\n",
    "                             max_depth = best_rf.best_params_['clf__max_depth'],\n",
    "                             max_features = best_rf.best_params_['clf__max_features'],\n",
    "                             n_estimators = best_rf.best_params_['clf__n_estimators'],\n",
    "                             class_weight = 'balanced',\n",
    "                             random_state = seed)\n",
    "rf.fit(X_A, y_A)\n"
   ]
  },
  {
   "cell_type": "code",
   "execution_count": 14,
   "metadata": {},
   "outputs": [
    {
     "data": {
      "text/plain": [
       "RandomForestClassifier(bootstrap=True, ccp_alpha=0.0, class_weight='balanced',\n",
       "                       criterion='gini', max_depth=32, max_features='log2',\n",
       "                       max_leaf_nodes=None, max_samples=None,\n",
       "                       min_impurity_decrease=0.0, min_impurity_split=None,\n",
       "                       min_samples_leaf=1, min_samples_split=2,\n",
       "                       min_weight_fraction_leaf=0.0, n_estimators=931,\n",
       "                       n_jobs=None, oob_score=False, random_state=123,\n",
       "                       verbose=0, warm_start=False)"
      ]
     },
     "execution_count": 14,
     "metadata": {},
     "output_type": "execute_result"
    }
   ],
   "source": [
    "# Get tuned parameter from colab\n",
    "# Build model using best hyperparameters found and all training data (A)\n",
    "rf = RandomForestClassifier(\n",
    "                             max_depth = 32,\n",
    "                             max_features = 'log2',\n",
    "                             n_estimators = 931,\n",
    "                             class_weight = 'balanced',\n",
    "                             random_state = seed)\n",
    "rf.fit(X_A, y_A)"
   ]
  },
  {
   "cell_type": "markdown",
   "metadata": {},
   "source": [
    "##### Feature Importance"
   ]
  },
  {
   "cell_type": "code",
   "execution_count": 20,
   "metadata": {},
   "outputs": [
    {
     "data": {
      "text/html": [
       "<div>\n",
       "<style scoped>\n",
       "    .dataframe tbody tr th:only-of-type {\n",
       "        vertical-align: middle;\n",
       "    }\n",
       "\n",
       "    .dataframe tbody tr th {\n",
       "        vertical-align: top;\n",
       "    }\n",
       "\n",
       "    .dataframe thead th {\n",
       "        text-align: right;\n",
       "    }\n",
       "</style>\n",
       "<table border=\"1\" class=\"dataframe\">\n",
       "  <thead>\n",
       "    <tr style=\"text-align: right;\">\n",
       "      <th></th>\n",
       "      <th>Value</th>\n",
       "      <th>Feature</th>\n",
       "    </tr>\n",
       "  </thead>\n",
       "  <tbody>\n",
       "    <tr>\n",
       "      <th>0</th>\n",
       "      <td>0.015553</td>\n",
       "      <td>D1</td>\n",
       "    </tr>\n",
       "    <tr>\n",
       "      <th>1</th>\n",
       "      <td>0.015164</td>\n",
       "      <td>C13</td>\n",
       "    </tr>\n",
       "    <tr>\n",
       "      <th>2</th>\n",
       "      <td>0.014276</td>\n",
       "      <td>TransactionAmt_card1_mean</td>\n",
       "    </tr>\n",
       "    <tr>\n",
       "      <th>3</th>\n",
       "      <td>0.014041</td>\n",
       "      <td>C14</td>\n",
       "    </tr>\n",
       "    <tr>\n",
       "      <th>4</th>\n",
       "      <td>0.013931</td>\n",
       "      <td>TransactionAmt_card1_std</td>\n",
       "    </tr>\n",
       "    <tr>\n",
       "      <th>5</th>\n",
       "      <td>0.013663</td>\n",
       "      <td>TransactionAmt_card1_addr1_mean</td>\n",
       "    </tr>\n",
       "    <tr>\n",
       "      <th>6</th>\n",
       "      <td>0.013584</td>\n",
       "      <td>TransactionAmt_card1_addr1_P_emaildomain_mean</td>\n",
       "    </tr>\n",
       "    <tr>\n",
       "      <th>7</th>\n",
       "      <td>0.012882</td>\n",
       "      <td>TransactionAmt</td>\n",
       "    </tr>\n",
       "    <tr>\n",
       "      <th>8</th>\n",
       "      <td>0.012779</td>\n",
       "      <td>V307</td>\n",
       "    </tr>\n",
       "    <tr>\n",
       "      <th>9</th>\n",
       "      <td>0.012536</td>\n",
       "      <td>D15</td>\n",
       "    </tr>\n",
       "  </tbody>\n",
       "</table>\n",
       "</div>"
      ],
      "text/plain": [
       "      Value                                        Feature\n",
       "0  0.015553                                             D1\n",
       "1  0.015164                                            C13\n",
       "2  0.014276                      TransactionAmt_card1_mean\n",
       "3  0.014041                                            C14\n",
       "4  0.013931                       TransactionAmt_card1_std\n",
       "5  0.013663                TransactionAmt_card1_addr1_mean\n",
       "6  0.013584  TransactionAmt_card1_addr1_P_emaildomain_mean\n",
       "7  0.012882                                 TransactionAmt\n",
       "8  0.012779                                           V307\n",
       "9  0.012536                                            D15"
      ]
     },
     "execution_count": 20,
     "metadata": {},
     "output_type": "execute_result"
    }
   ],
   "source": [
    "feature_imp = pd.DataFrame(zip(rf.feature_importances_,X_A.columns), columns=['Value','Feature'])\n",
    "feature_imp = feature_imp.sort_values(by = ['Value'], ascending = False).reset_index(drop = True)\n",
    "feature_imp.head(10)"
   ]
  },
  {
   "cell_type": "markdown",
   "metadata": {},
   "source": [
    "##### Test model and report performance metrics"
   ]
  },
  {
   "cell_type": "code",
   "execution_count": 22,
   "metadata": {},
   "outputs": [],
   "source": [
    "# Apply model on testing data (B)\n",
    "y_B_pred_labels = rf.predict(X_B)"
   ]
  },
  {
   "cell_type": "code",
   "execution_count": 28,
   "metadata": {},
   "outputs": [
    {
     "name": "stdout",
     "output_type": "stream",
     "text": [
      "0.9545732773342136\n"
     ]
    },
    {
     "data": {
      "image/png": "[encoded data removed]",
      "text/plain": [
       "<Figure size 432x288 with 1 Axes>"
      ]
     },
     "metadata": {
      "needs_background": "light"
     },
     "output_type": "display_data"
    }
   ],
   "source": [
    "# Get probability of class 1 on testing data (B) and report performance metrics:\n",
    "y_B_pred_prob = rf.predict_proba(X_B)[:,1]\n",
    "\n",
    "print(roc_auc_score(y_B, y_B_pred_prob))\n",
    "\n",
    "fpr, tpr, _ = roc_curve(y_B, y_B_pred_prob)\n",
    "\n",
    "plt.clf()\n",
    "plt.plot(fpr, tpr)\n",
    "plt.xlabel('FPR')\n",
    "plt.ylabel('TPR')\n",
    "plt.title('ROC curve')\n",
    "plt.show()"
   ]
  },
  {
   "cell_type": "code",
   "execution_count": 29,
   "metadata": {
    "scrolled": true
   },
   "outputs": [
    {
     "name": "stdout",
     "output_type": "stream",
     "text": [
      "Confusion Matrix (Note: this result is not a good representation as it assumes 2 classes weight the same)\n"
     ]
    },
    {
     "data": {
      "image/png": "[encoded data removed]",
      "text/plain": [
       "<Figure size 432x288 with 2 Axes>"
      ]
     },
     "metadata": {
      "needs_background": "light"
     },
     "output_type": "display_data"
    }
   ],
   "source": [
    "print('Confusion Matrix (Note: this result is not a good representation as it assumes 2 classes weight the same)')\n",
    "\n",
    "\n",
    "data = {'y_Actual':    list(y_B),\n",
    "        'y_Predicted': list(y_B_pred_labels)\n",
    "        }\n",
    "\n",
    "df = pd.DataFrame(data, columns=['y_Actual','y_Predicted'])\n",
    "confusion_matrix = pd.crosstab(df['y_Actual'], df['y_Predicted'], rownames=['Actual'], colnames=['Predicted'])\n",
    "\n",
    "sb.heatmap(confusion_matrix, annot=True)\n",
    "plt.show()"
   ]
  },
  {
   "cell_type": "code",
   "execution_count": 30,
   "metadata": {},
   "outputs": [
    {
     "data": {
      "text/plain": [
       "array([0.02504309, 0.02669005, 0.75633608, ..., 0.12943162, 0.02744362,\n",
       "       0.08152453])"
      ]
     },
     "execution_count": 30,
     "metadata": {},
     "output_type": "execute_result"
    }
   ],
   "source": [
    "y_B_pred_prob"
   ]
  },
  {
   "cell_type": "markdown",
   "metadata": {},
   "source": [
    "## Part C: Save Deliverables\n",
    "We will save the following deliverables:\n",
    "- Model [pkl format]\n",
    "- Predicted Probability of validation data (B) [dataframe format]\n",
    "- Feature Importance [dataframe format]\n",
    "- ROC curve [png]\n",
    "- Feature Importance [png]"
   ]
  },
  {
   "cell_type": "code",
   "execution_count": 31,
   "metadata": {},
   "outputs": [
    {
     "name": "stdout",
     "output_type": "stream",
     "text": [
      "ROC-AUC Score = 0.9545732773342136\n"
     ]
    },
    {
     "data": {
      "image/png": "[encoded data removed]",
      "text/plain": [
       "<Figure size 720x576 with 1 Axes>"
      ]
     },
     "metadata": {
      "needs_background": "light"
     },
     "output_type": "display_data"
    }
   ],
   "source": [
    "# Plot ROC-AUC Curve and save\n",
    "rf_frp, rf_tpr, _ = roc_curve(y_B, y_B_pred_prob)\n",
    "AUC_score = roc_auc_score(y_B, y_B_pred_prob)\n",
    "print('ROC-AUC Score =', AUC_score)\n",
    "\n",
    "# Define true-positive and false-positive for no skill predictions\n",
    "no_skill_pred = [0 for _ in range(len(y_B))]\n",
    "ns_frp, ns_tpr, _ = roc_curve(y_B, no_skill_pred)\n",
    "\n",
    "# Plot ROC curve\n",
    "plt.figure(figsize=(10, 8))\n",
    "plt.plot(ns_frp, ns_tpr, linestyle = '--', label='No Skill')\n",
    "plt.plot(rf_frp, rf_tpr, marker = '.', label='Tuned RF Model (area = %0.2f)' % AUC_score)\n",
    "plt.title('ROC Curve')\n",
    "plt.xlabel('False Positive Rate')\n",
    "plt.ylabel('True Positive Rate')\n",
    "plt.legend()\n",
    "plt.legend(loc=\"lower right\")\n",
    "plt.savefig('Random Forest ROC Curve.png')\n",
    "plt.show()"
   ]
  },
  {
   "cell_type": "code",
   "execution_count": 32,
   "metadata": {},
   "outputs": [
    {
     "data": {
      "image/png": "[encoded data removed]",
      "text/plain": [
       "<Figure size 1080x576 with 1 Axes>"
      ]
     },
     "metadata": {
      "needs_background": "light"
     },
     "output_type": "display_data"
    },
    {
     "name": "stdout",
     "output_type": "stream",
     "text": [
      "Wall time: 832 ms\n"
     ]
    }
   ],
   "source": [
    "%%time\n",
    "# Plot feature importance and save figure\n",
    "plt.figure(figsize=(15, 8))\n",
    "sb.barplot(x=\"Value\", y=\"Feature\", data=feature_imp.iloc[:20], palette = \"Blues_d\")\n",
    "plt.title('Random Forest Tuned Model - Top 20 Feature Importance')\n",
    "plt.tight_layout()\n",
    "plt.savefig('Random Forest Feature Importance.png')\n",
    "plt.show()"
   ]
  },
  {
   "cell_type": "code",
   "execution_count": 34,
   "metadata": {},
   "outputs": [],
   "source": [
    "# Save predicted data:\n",
    "# 1) Model// To load model: rf_tuned = joblib.load('TunedRandomForest.pkl') \n",
    "joblib.dump(rf, 'TunedRandomForest.pkl') \n",
    "\n",
    "# 2) Dataframe data// To load data: feature_imp = pd.read_pickle(\"RF_feature_importance.pkl\")\n",
    "feature_imp.to_pickle(\"RF_feature_importance.pkl\")\n",
    "\n",
    "# 3) Numpy data// To load data: y_B_pred_prob = np.load('RF_y_B_pred_prob.npy') \n",
    "validation_results = pd.DataFrame(zip(y_B, y_B_pred_prob), columns=['True Label','Predicted Label'])\n",
    "validation_results.to_pickle(\"RF_validation_results.pkl\")\n",
    "validation_results.head()"
   ]
  },
  {
   "cell_type": "code",
   "execution_count": 35,
   "metadata": {},
   "outputs": [
    {
     "data": {
      "text/html": [
       "<div>\n",
       "<style scoped>\n",
       "    .dataframe tbody tr th:only-of-type {\n",
       "        vertical-align: middle;\n",
       "    }\n",
       "\n",
       "    .dataframe tbody tr th {\n",
       "        vertical-align: top;\n",
       "    }\n",
       "\n",
       "    .dataframe thead th {\n",
       "        text-align: right;\n",
       "    }\n",
       "</style>\n",
       "<table border=\"1\" class=\"dataframe\">\n",
       "  <thead>\n",
       "    <tr style=\"text-align: right;\">\n",
       "      <th></th>\n",
       "      <th>True Label</th>\n",
       "      <th>Predicted Label</th>\n",
       "    </tr>\n",
       "  </thead>\n",
       "  <tbody>\n",
       "    <tr>\n",
       "      <th>0</th>\n",
       "      <td>0</td>\n",
       "      <td>0.025043</td>\n",
       "    </tr>\n",
       "    <tr>\n",
       "      <th>1</th>\n",
       "      <td>0</td>\n",
       "      <td>0.026690</td>\n",
       "    </tr>\n",
       "    <tr>\n",
       "      <th>2</th>\n",
       "      <td>1</td>\n",
       "      <td>0.756336</td>\n",
       "    </tr>\n",
       "    <tr>\n",
       "      <th>3</th>\n",
       "      <td>0</td>\n",
       "      <td>0.082933</td>\n",
       "    </tr>\n",
       "    <tr>\n",
       "      <th>4</th>\n",
       "      <td>0</td>\n",
       "      <td>0.056339</td>\n",
       "    </tr>\n",
       "  </tbody>\n",
       "</table>\n",
       "</div>"
      ],
      "text/plain": [
       "   True Label  Predicted Label\n",
       "0           0         0.025043\n",
       "1           0         0.026690\n",
       "2           1         0.756336\n",
       "3           0         0.082933\n",
       "4           0         0.056339"
      ]
     },
     "execution_count": 35,
     "metadata": {},
     "output_type": "execute_result"
    }
   ],
   "source": [
    "validation_results.head()"
   ]
  },
  {
   "cell_type": "code",
   "execution_count": null,
   "metadata": {},
   "outputs": [],
   "source": []
  },
  {
   "cell_type": "code",
   "execution_count": null,
   "metadata": {},
   "outputs": [],
   "source": []
  },
  {
   "cell_type": "code",
   "execution_count": null,
   "metadata": {},
   "outputs": [],
   "source": []
  },
  {
   "cell_type": "code",
   "execution_count": null,
   "metadata": {},
   "outputs": [],
   "source": []
  }
 ],
 "metadata": {
  "kernelspec": {
   "display_name": "Python 3",
   "language": "python",
   "name": "python3"
  },
  "language_info": {
   "codemirror_mode": {
    "name": "ipython",
    "version": 3
   },
   "file_extension": ".py",
   "mimetype": "text/x-python",
   "name": "python",
   "nbconvert_exporter": "python",
   "pygments_lexer": "ipython3",
   "version": "3.7.3"
  }
 },
 "nbformat": 4,
 "nbformat_minor": 4
}
