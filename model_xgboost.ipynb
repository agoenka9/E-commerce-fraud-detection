{
 "cells": [
  {
   "cell_type": "markdown",
   "metadata": {},
   "source": [
    "# XGBoost model"
   ]
  },
  {
   "cell_type": "markdown",
   "metadata": {},
   "source": [
    "##  Read cleaned data from pickle "
   ]
  },
  {
   "cell_type": "markdown",
   "metadata": {},
   "source": [
    "Preprocessing applied to all files:\n",
    "- Features with > 90% data missing or > 90% data with the same value were dropped\n",
    "- If possible, categorical variables with 100s of categories were mapped to coaser categoricals\n",
    "- Correlation plot analysis done on \"V\" columns and columns were dropped reduce collinearlity\n",
    "\t- https://www.kaggle.com/cdeotte/eda-for-columns-v-and-id\n",
    "- Some \"D\" columns were normalized for time\n",
    "- Aggregate features were added using \"magic\" technique\n",
    "\t- https://www.kaggle.com/cdeotte/xgb-fraud-with-magic-0-9600#How-the-Magic-Works\n",
    "- Dropped TransactionID and TransactionDT"
   ]
  },
  {
   "cell_type": "code",
   "execution_count": 13,
   "metadata": {},
   "outputs": [],
   "source": [
    "import pickle\n",
    "import glob\n",
    "import numpy as np \n",
    "import pandas as pd \n",
    "import matplotlib.pyplot as plt\n",
    "import seaborn as sns"
   ]
  },
  {
   "cell_type": "code",
   "execution_count": 14,
   "metadata": {},
   "outputs": [
    {
     "data": {
      "text/plain": [
       "['./data/XGBoost_LR_train_X_2.pkl',\n",
       " './data/train_y.pkl',\n",
       " './data/XGBoost_train_X_2.pkl',\n",
       " './data/XGBoost_test_X_2.pkl',\n",
       " './data/readmefirst.md',\n",
       " './data/XGBoost_LR_test_X_1.pkl',\n",
       " './data/XGBoost_train_X_1.pkl',\n",
       " './data/XGBoost_LR_train_X_1.pkl',\n",
       " './data/XGBoost_LR_test_X_2.pkl',\n",
       " './data/XGBoost_test_X_1.pkl',\n",
       " './data/sample_submission.csv']"
      ]
     },
     "execution_count": 14,
     "metadata": {},
     "output_type": "execute_result"
    }
   ],
   "source": [
    "glob.glob('./data/*')"
   ]
  },
  {
   "cell_type": "code",
   "execution_count": 15,
   "metadata": {},
   "outputs": [],
   "source": [
    "'''X (version 1)\n",
    "- Full 200 features\n",
    "- Dummies created\n",
    "'''\n",
    "X_test_1 = pickle.load(open('./data/XGBoost_test_X_1.pkl', 'rb'))\n",
    "X_train_1 = pickle.load(open('./data/XGBoost_train_X_1.pkl', 'rb'))\n",
    "\n",
    "'''\n",
    "X (version 2)\n",
    "- Removed additional features\n",
    "    - Highly correlated \"C\", \"D\" features\n",
    "    - Removed features Chris (1st place winners) removed\n",
    "    - Removed caterogical features withh 200+ categories even after 1)\n",
    "- Dummies created\n",
    "'''\n",
    "X_test_2 = pickle.load(open('./data/XGBoost_test_X_2.pkl', 'rb'))\n",
    "X_train_2 = pickle.load(open('./data/XGBoost_train_X_2.pkl', 'rb'))\n",
    "\n",
    "y = pickle.load(open('./data/train_y.pkl', 'rb'))"
   ]
  },
  {
   "cell_type": "code",
   "execution_count": 16,
   "metadata": {},
   "outputs": [
    {
     "data": {
      "text/plain": [
       "((590540, 1323), (590540, 1303), (506691, 1573), (506691, 1553), (590540,))"
      ]
     },
     "execution_count": 16,
     "metadata": {},
     "output_type": "execute_result"
    }
   ],
   "source": [
    "X_train_1.shape, X_train_2.shape, X_test_1.shape, X_test_2.shape, y.shape"
   ]
  },
  {
   "cell_type": "code",
   "execution_count": 17,
   "metadata": {},
   "outputs": [
    {
     "name": "stdout",
     "output_type": "stream",
     "text": [
      "There are 360 columns in train but not in test.\n",
      "There are 610 columns in test but not in train.\n",
      "Final test shape (506691, 1323)\n",
      "Final train shape (590540, 1323)\n"
     ]
    }
   ],
   "source": [
    "# Difference between train and test columns\n",
    "train_col_1 = set(X_train_1.columns)\n",
    "test_col_1 = set(X_test_1.columns)\n",
    "\n",
    "only_train = train_col_1.difference(test_col_1)\n",
    "only_test = test_col_1.difference(train_col_1)\n",
    "print(\"There are\", len(only_train), \"columns in train but not in test.\")\n",
    "print(\"There are\", len(only_test), \"columns in test but not in train.\")\n",
    "\n",
    "# Option 3, keep train as in. Drop \"only test\" columns from test and add \"only train\" columns to test\n",
    "test_nrows = X_test_1.shape[0]\n",
    "X_test_1= X_test_1.drop(columns=only_test)\n",
    "X_test_1 = pd.concat([X_test_1, pd.DataFrame(0, index=np.arange(test_nrows), columns=only_train)], axis=1)\n",
    "print(\"Final test shape\", X_test_1.shape)\n",
    "print(\"Final train shape\", X_train_1.shape)"
   ]
  },
  {
   "cell_type": "code",
   "execution_count": 18,
   "metadata": {},
   "outputs": [
    {
     "name": "stdout",
     "output_type": "stream",
     "text": [
      "There are 360 columns in train but not in test.\n",
      "There are 610 columns in test but not in train.\n",
      "Final test shape (506691, 1303)\n",
      "Final train shape (590540, 1303)\n"
     ]
    }
   ],
   "source": [
    "# Difference between train and test columns\n",
    "train_col_2 = set(X_train_2.columns)\n",
    "test_col_2 = set(X_test_2.columns)\n",
    "\n",
    "only_train = train_col_2.difference(test_col_1)\n",
    "only_test = test_col_2.difference(train_col_1)\n",
    "print(\"There are\", len(only_train), \"columns in train but not in test.\")\n",
    "print(\"There are\", len(only_test), \"columns in test but not in train.\")\n",
    "\n",
    "# Option 3, keep train as in. Drop \"only test\" columns from test and add \"only train\" columns to test\n",
    "test_nrows = X_test_2.shape[0]\n",
    "X_test_2= X_test_2.drop(columns=only_test)\n",
    "X_test_2 = pd.concat([X_test_2, pd.DataFrame(0, index=np.arange(test_nrows), columns=only_train)], axis=1)\n",
    "print(\"Final test shape\", X_test_2.shape)\n",
    "print(\"Final train shape\", X_train_2.shape)"
   ]
  },
  {
   "cell_type": "markdown",
   "metadata": {},
   "source": [
    "## Develop a base XGB model"
   ]
  },
  {
   "cell_type": "code",
   "execution_count": null,
   "metadata": {},
   "outputs": [],
   "source": [
    "from sklearn.model_selection import train_test_split, cross_validate,\\\n",
    "KFold, TimeSeriesSplit\n",
    "from sklearn.metrics import accuracy_score, roc_auc_score, roc_curve\n",
    "import xgboost as xgb\n",
    "from sklearn.metrics import make_scorer\n",
    "from sklearn.externals import joblib "
   ]
  },
  {
   "cell_type": "markdown",
   "metadata": {},
   "source": [
    "#### Since xgboost takes a considerable amount of time to run on non-GPU device, the following is a train-test split setup to assist with early stage coding/ debugging."
   ]
  },
  {
   "cell_type": "code",
   "execution_count": 51,
   "metadata": {},
   "outputs": [
    {
     "name": "stdout",
     "output_type": "stream",
     "text": [
      "CPU times: user 3.95 s, sys: 489 ms, total: 4.44 s\n",
      "Wall time: 4.43 s\n"
     ]
    }
   ],
   "source": [
    "%%time\n",
    "seed = 123\n",
    "test_size = 0.3\n",
    "X_train, X_val, y_train, y_val = train_test_split(X_train_1, y, test_size = test_size, random_state = seed)"
   ]
  },
  {
   "cell_type": "code",
   "execution_count": 52,
   "metadata": {},
   "outputs": [
    {
     "name": "stdout",
     "output_type": "stream",
     "text": [
      "basic model is fitted\n",
      "CPU times: user 1min 56s, sys: 39.7 s, total: 2min 36s\n",
      "Wall time: 2min 32s\n"
     ]
    }
   ],
   "source": [
    "%%time\n",
    "base_x1_model = xgb.XGBClassifier(eval_metric='auc', tree_method='gpu_hist', silent = 0,\\\n",
    "                                 objective='binary:logistic', scale_pos_weight = 1)\n",
    "base_x1_model.fit(X_train, y_train)\n",
    "print(\"basic model is fitted\")"
   ]
  },
  {
   "cell_type": "code",
   "execution_count": 53,
   "metadata": {},
   "outputs": [
    {
     "name": "stdout",
     "output_type": "stream",
     "text": [
      "ROC_AUC score: 95.40%\n",
      "CPU times: user 7.12 s, sys: 2.3 s, total: 9.42 s\n",
      "Wall time: 7.31 s\n"
     ]
    }
   ],
   "source": [
    "%%time\n",
    "base_x1_y_pred = base_x1_model.predict_proba(X_val)[:, 1]\n",
    "auc_score = roc_auc_score(y_val, base_x1_y_pred)\n",
    "print(f\"ROC_AUC score: {auc_score* 100:.2f}%\")\n",
    "base_x1_frp, base_x1_tpr, _ = roc_curve(y_val, base_x1_y_pred)"
   ]
  },
  {
   "cell_type": "code",
   "execution_count": 24,
   "metadata": {},
   "outputs": [
    {
     "data": {
      "image/png": "[encoded data removed]",
      "text/plain": [
       "<Figure size 720x576 with 1 Axes>"
      ]
     },
     "metadata": {},
     "output_type": "display_data"
    }
   ],
   "source": [
    "# Define true-positive and false-positive for no skill predictions\n",
    "no_skill_pred = [0 for _ in range(len(y_val))]\n",
    "ns_frp, ns_tpr, _ = roc_curve(y_val, no_skill_pred)\n",
    "\n",
    "# Plot ROC curve across models\n",
    "plt.figure(figsize=(10, 8))\n",
    "plt.plot(ns_frp, ns_tpr, linestyle = '--', label='No Skill')\n",
    "plt.plot(base_x1_frp, base_x1_tpr, marker = '.', label='Default XGB Model')\n",
    "plt.title('ROC Curve')\n",
    "plt.xlabel('False Positive Rate')\n",
    "plt.ylabel('True Positive Rate')\n",
    "plt.legend()\n",
    "plt.show()"
   ]
  },
  {
   "cell_type": "code",
   "execution_count": 25,
   "metadata": {},
   "outputs": [
    {
     "data": {
      "image/png": "[encoded data removed]",
      "text/plain": [
       "<Figure size 1080x576 with 1 Axes>"
      ]
     },
     "metadata": {},
     "output_type": "display_data"
    },
    {
     "name": "stdout",
     "output_type": "stream",
     "text": [
      "CPU times: user 706 ms, sys: 273 ms, total: 979 ms\n",
      "Wall time: 430 ms\n"
     ]
    }
   ],
   "source": [
    "%%time\n",
    "# Understand feature importance in the model\n",
    "feature_imp = pd.DataFrame(sorted(zip(base_x1_model.feature_importances_,X_train_1.columns)), columns=['Value','Feature'])\n",
    "plt.figure(figsize=(15, 8))\n",
    "sns.barplot(x=\"Value\", y=\"Feature\", data=feature_imp.sort_values(by=\"Value\", ascending=False).iloc[:10],\\\n",
    "            palette = \"Blues_d\")\n",
    "plt.title('XGB Tuned Model- Feature Importance')\n",
    "plt.tight_layout()\n",
    "plt.show()"
   ]
  },
  {
   "cell_type": "markdown",
   "metadata": {},
   "source": [
    "## Hyperparameter Tuning"
   ]
  },
  {
   "cell_type": "markdown",
   "metadata": {},
   "source": [
    "### Define Scikit Optimizer function"
   ]
  },
  {
   "cell_type": "code",
   "execution_count": 59,
   "metadata": {},
   "outputs": [],
   "source": [
    "from skopt import BayesSearchCV\n",
    "from skopt.space import Real, Categorical, Integer"
   ]
  },
  {
   "cell_type": "code",
   "execution_count": 14,
   "metadata": {},
   "outputs": [],
   "source": [
    "# Use train-validation split to tune hyparameters of model\n",
    "test_size = 0.3\n",
    "tuning_X_train, tuning_X_val, tuning_y_train, tuning_y_val = train_test_split(X_train,\\\n",
    "                                y_train, test_size = test_size, random_state = seed)\n",
    "tuning_X = pd.concat([tuning_X_train, tuning_X_val])\n",
    "tuning_y = pd.concat([tuning_y_train, tuning_y_val])\n",
    "tuning_train_indices = list(range(tuning_X_train.shape[0]))\n",
    "tuning_val_indices = list(range(tuning_X_train.shape[0], tuning_X.shape[0]))"
   ]
  },
  {
   "cell_type": "code",
   "execution_count": 26,
   "metadata": {},
   "outputs": [],
   "source": [
    "# As stated in the documentation, scale_pos_weight allows the model to converge faster.\n",
    "# Especially when classes are imbalanced\n",
    "# scale_pos_weight = sqrt(count(negative examples)/count(Positive examples)) \n",
    "neg_N = len(y) - sum(y)\n",
    "pos_N = sum(y)\n",
    "scale_pos_weight = np.sqrt(neg_N / pos_N)"
   ]
  },
  {
   "cell_type": "code",
   "execution_count": 67,
   "metadata": {},
   "outputs": [],
   "source": [
    "# number of iterations to scan for \n",
    "iterations = 20\n",
    "\n",
    "# define classifier\n",
    "estimator = xgb.XGBClassifier(\n",
    "        objective = 'binary:logistic',\n",
    "        eval_metric = 'auc',\n",
    "        silent=0,\n",
    "        tree_method ='gpu_hist',\n",
    "        scale_pos_weight = scale_pos_weight\n",
    "    )"
   ]
  },
  {
   "cell_type": "code",
   "execution_count": 46,
   "metadata": {},
   "outputs": [],
   "source": [
    "# define hyperparameter space\n",
    "search_spaces = {\n",
    "        'n_estimators': Integer(50, 200),\n",
    "        'learning_rate': Real(0.01, 0.2, 'log-uniform'),\n",
    "        'max_depth': Integer(3, 15),\n",
    "        'subsample': Real(0.7, 1.0, 'uniform'),\n",
    "        'colsample_bytree' : Real(0.3, 0.8, 'uniform'),\n",
    "        'gamma': [0, 1]\n",
    "        #'min_child_weight': Real(100, 500),\n",
    "        #'max_delta_step': Real(0, 20),\n",
    "        #'colsample_bylevel': Real(0.01, 1.0, 'uniform'),\n",
    "        #'reg_lambda': Real(0.1, 1000, 'log-uniform'),\n",
    "        #'reg_alpha': Real(0.1, 1.0, 'log-uniform'),\n",
    "        #'gamma': Real(0.01, 0.5, 'log-uniform')#,\n",
    "        #'scale_pos_weight': (1e-6, 500, 'log-uniform')\n",
    "    }"
   ]
  },
  {
   "cell_type": "code",
   "execution_count": 47,
   "metadata": {},
   "outputs": [],
   "source": [
    "# Set up validation\n",
    "cv = [(tuning_train_indices, tuning_val_indices)]"
   ]
  },
  {
   "cell_type": "code",
   "execution_count": 48,
   "metadata": {},
   "outputs": [],
   "source": [
    "xgb_tuner = BayesSearchCV(estimator = estimator, search_spaces = search_spaces, scoring = 'roc_auc',\\\n",
    "                          cv = cv, n_jobs = 3, n_iter = iterations, verbose = 0, refit = True, random_state = seed)"
   ]
  },
  {
   "cell_type": "code",
   "execution_count": 49,
   "metadata": {},
   "outputs": [],
   "source": [
    "def status_print(optim_result):    \n",
    "    all_models = pd.DataFrame(xgb_tuner.cv_results_)    \n",
    "    \n",
    "    # Get best parameters    \n",
    "    best_params = pd.Series(xgb_tuner.best_params_)\n",
    "    print(f'Iteration {len(all_models)}:\\nBest ROC-AUC:\\\n",
    "    {np.round(xgb_tuner.best_score_, 4)}\\nBestparams:{xgb_tuner.best_params_}\\n')\n",
    "    \n",
    "    # Save to csv\n",
    "    clf_name = xgb_tuner.estimator.__class__.__name__\n",
    "    all_models.to_csv(clf_name+\"_cv_results.csv\")"
   ]
  },
  {
   "cell_type": "code",
   "execution_count": 52,
   "metadata": {},
   "outputs": [
    {
     "name": "stdout",
     "output_type": "stream",
     "text": [
      "Iteration 1:\n",
      "Best ROC-AUC:    0.8974\n",
      "Bestparams:OrderedDict([('colsample_bytree', 0.7293468848796315), ('gamma', 1), ('learning_rate', 0.012995726300576523), ('max_depth', 9), ('n_estimators', 144), ('subsample', 0.7401590061482064)])\n",
      "\n",
      "Iteration 2:\n",
      "Best ROC-AUC:    0.9053\n",
      "Bestparams:OrderedDict([('colsample_bytree', 0.7962590536997258), ('gamma', 5), ('learning_rate', 0.12252835350741892), ('max_depth', 3), ('n_estimators', 124), ('subsample', 0.7546448846552505)])\n",
      "\n",
      "Iteration 3:\n",
      "Best ROC-AUC:    0.9053\n",
      "Bestparams:OrderedDict([('colsample_bytree', 0.7962590536997258), ('gamma', 5), ('learning_rate', 0.12252835350741892), ('max_depth', 3), ('n_estimators', 124), ('subsample', 0.7546448846552505)])\n",
      "\n",
      "Iteration 4:\n",
      "Best ROC-AUC:    0.9521\n",
      "Bestparams:OrderedDict([('colsample_bytree', 0.5813074589686378), ('gamma', 1), ('learning_rate', 0.034863451709054784), ('max_depth', 11), ('n_estimators', 140), ('subsample', 0.8088126682699481)])\n",
      "\n",
      "Iteration 5:\n",
      "Best ROC-AUC:    0.9521\n",
      "Bestparams:OrderedDict([('colsample_bytree', 0.5813074589686378), ('gamma', 1), ('learning_rate', 0.034863451709054784), ('max_depth', 11), ('n_estimators', 140), ('subsample', 0.8088126682699481)])\n",
      "\n",
      "Iteration 6:\n",
      "Best ROC-AUC:    0.9521\n",
      "Bestparams:OrderedDict([('colsample_bytree', 0.5813074589686378), ('gamma', 1), ('learning_rate', 0.034863451709054784), ('max_depth', 11), ('n_estimators', 140), ('subsample', 0.8088126682699481)])\n",
      "\n",
      "Iteration 7:\n",
      "Best ROC-AUC:    0.9521\n",
      "Bestparams:OrderedDict([('colsample_bytree', 0.5813074589686378), ('gamma', 1), ('learning_rate', 0.034863451709054784), ('max_depth', 11), ('n_estimators', 140), ('subsample', 0.8088126682699481)])\n",
      "\n",
      "Iteration 8:\n",
      "Best ROC-AUC:    0.9521\n",
      "Bestparams:OrderedDict([('colsample_bytree', 0.5813074589686378), ('gamma', 1), ('learning_rate', 0.034863451709054784), ('max_depth', 11), ('n_estimators', 140), ('subsample', 0.8088126682699481)])\n",
      "\n",
      "Iteration 9:\n",
      "Best ROC-AUC:    0.9651\n",
      "Bestparams:OrderedDict([('colsample_bytree', 0.6636816590466001), ('gamma', 1), ('learning_rate', 0.16641435213368763), ('max_depth', 8), ('n_estimators', 177), ('subsample', 0.7345615438827648)])\n",
      "\n",
      "Iteration 10:\n",
      "Best ROC-AUC:    0.9651\n",
      "Bestparams:OrderedDict([('colsample_bytree', 0.6636816590466001), ('gamma', 1), ('learning_rate', 0.16641435213368763), ('max_depth', 8), ('n_estimators', 177), ('subsample', 0.7345615438827648)])\n",
      "\n",
      "Iteration 11:\n",
      "Best ROC-AUC:    0.9722\n",
      "Bestparams:OrderedDict([('colsample_bytree', 0.5761506623772391), ('gamma', 0), ('learning_rate', 0.18558276648165145), ('max_depth', 15), ('n_estimators', 200), ('subsample', 1.0)])\n",
      "\n",
      "Iteration 12:\n",
      "Best ROC-AUC:    0.9722\n",
      "Bestparams:OrderedDict([('colsample_bytree', 0.5761506623772391), ('gamma', 0), ('learning_rate', 0.18558276648165145), ('max_depth', 15), ('n_estimators', 200), ('subsample', 1.0)])\n",
      "\n",
      "Iteration 13:\n",
      "Best ROC-AUC:    0.9724\n",
      "Bestparams:OrderedDict([('colsample_bytree', 0.8), ('gamma', 0), ('learning_rate', 0.06854600817903711), ('max_depth', 15), ('n_estimators', 200), ('subsample', 0.7)])\n",
      "\n",
      "Iteration 14:\n",
      "Best ROC-AUC:    0.9724\n",
      "Bestparams:OrderedDict([('colsample_bytree', 0.8), ('gamma', 0), ('learning_rate', 0.06854600817903711), ('max_depth', 15), ('n_estimators', 200), ('subsample', 0.7)])\n",
      "\n",
      "Iteration 15:\n",
      "Best ROC-AUC:    0.9726\n",
      "Bestparams:OrderedDict([('colsample_bytree', 0.8), ('gamma', 0), ('learning_rate', 0.1260482919019545), ('max_depth', 12), ('n_estimators', 200), ('subsample', 1.0)])\n",
      "\n",
      "Iteration 16:\n",
      "Best ROC-AUC:    0.9726\n",
      "Bestparams:OrderedDict([('colsample_bytree', 0.8), ('gamma', 0), ('learning_rate', 0.1260482919019545), ('max_depth', 12), ('n_estimators', 200), ('subsample', 1.0)])\n",
      "\n",
      "Iteration 17:\n",
      "Best ROC-AUC:    0.9726\n",
      "Bestparams:OrderedDict([('colsample_bytree', 0.8), ('gamma', 0), ('learning_rate', 0.1260482919019545), ('max_depth', 12), ('n_estimators', 200), ('subsample', 1.0)])\n",
      "\n",
      "Iteration 18:\n",
      "Best ROC-AUC:    0.9726\n",
      "Bestparams:OrderedDict([('colsample_bytree', 0.8), ('gamma', 0), ('learning_rate', 0.1260482919019545), ('max_depth', 12), ('n_estimators', 200), ('subsample', 1.0)])\n",
      "\n",
      "Iteration 19:\n",
      "Best ROC-AUC:    0.9726\n",
      "Bestparams:OrderedDict([('colsample_bytree', 0.8), ('gamma', 0), ('learning_rate', 0.1260482919019545), ('max_depth', 12), ('n_estimators', 200), ('subsample', 1.0)])\n",
      "\n",
      "Iteration 20:\n",
      "Best ROC-AUC:    0.9726\n",
      "Bestparams:OrderedDict([('colsample_bytree', 0.8), ('gamma', 0), ('learning_rate', 0.1260482919019545), ('max_depth', 12), ('n_estimators', 200), ('subsample', 1.0)])\n",
      "\n"
     ]
    },
    {
     "ename": "KeyboardInterrupt",
     "evalue": "",
     "output_type": "error",
     "traceback": [
      "\u001b[0;31m---------------------------------------------------------------------------\u001b[0m",
      "\u001b[0;31mKeyboardInterrupt\u001b[0m                         Traceback (most recent call last)",
      "\u001b[0;32m<ipython-input-52-8d49fb28f436>\u001b[0m in \u001b[0;36m<module>\u001b[0;34m()\u001b[0m\n\u001b[0;32m----> 1\u001b[0;31m \u001b[0mresult\u001b[0m \u001b[0;34m=\u001b[0m \u001b[0mxgb_tuner\u001b[0m\u001b[0;34m.\u001b[0m\u001b[0mfit\u001b[0m\u001b[0;34m(\u001b[0m\u001b[0mtuning_X\u001b[0m\u001b[0;34m.\u001b[0m\u001b[0mvalues\u001b[0m\u001b[0;34m,\u001b[0m \u001b[0mtuning_y\u001b[0m\u001b[0;34m.\u001b[0m\u001b[0mvalues\u001b[0m\u001b[0;34m,\u001b[0m \u001b[0mcallback\u001b[0m \u001b[0;34m=\u001b[0m \u001b[0mstatus_print\u001b[0m\u001b[0;34m)\u001b[0m\u001b[0;34m\u001b[0m\u001b[0m\n\u001b[0m",
      "\u001b[0;32m~/anaconda3/lib/python3.6/site-packages/skopt/searchcv.py\u001b[0m in \u001b[0;36mfit\u001b[0;34m(self, X, y, groups, callback)\u001b[0m\n\u001b[1;32m    678\u001b[0m                 optim_result = self._step(\n\u001b[1;32m    679\u001b[0m                     \u001b[0mX\u001b[0m\u001b[0;34m,\u001b[0m \u001b[0my\u001b[0m\u001b[0;34m,\u001b[0m \u001b[0msearch_space\u001b[0m\u001b[0;34m,\u001b[0m \u001b[0moptimizer\u001b[0m\u001b[0;34m,\u001b[0m\u001b[0;34m\u001b[0m\u001b[0m\n\u001b[0;32m--> 680\u001b[0;31m                     \u001b[0mgroups\u001b[0m\u001b[0;34m=\u001b[0m\u001b[0mgroups\u001b[0m\u001b[0;34m,\u001b[0m \u001b[0mn_points\u001b[0m\u001b[0;34m=\u001b[0m\u001b[0mn_points_adjusted\u001b[0m\u001b[0;34m\u001b[0m\u001b[0m\n\u001b[0m\u001b[1;32m    681\u001b[0m                 )\n\u001b[1;32m    682\u001b[0m                 \u001b[0mn_iter\u001b[0m \u001b[0;34m-=\u001b[0m \u001b[0mn_points\u001b[0m\u001b[0;34m\u001b[0m\u001b[0m\n",
      "\u001b[0;32m~/anaconda3/lib/python3.6/site-packages/skopt/searchcv.py\u001b[0m in \u001b[0;36m_step\u001b[0;34m(self, X, y, search_space, optimizer, groups, n_points)\u001b[0m\n\u001b[1;32m    564\u001b[0m         \u001b[0mrefit\u001b[0m \u001b[0;34m=\u001b[0m \u001b[0mself\u001b[0m\u001b[0;34m.\u001b[0m\u001b[0mrefit\u001b[0m\u001b[0;34m\u001b[0m\u001b[0m\n\u001b[1;32m    565\u001b[0m         \u001b[0mself\u001b[0m\u001b[0;34m.\u001b[0m\u001b[0mrefit\u001b[0m \u001b[0;34m=\u001b[0m \u001b[0;32mFalse\u001b[0m\u001b[0;34m\u001b[0m\u001b[0m\n\u001b[0;32m--> 566\u001b[0;31m         \u001b[0mself\u001b[0m\u001b[0;34m.\u001b[0m\u001b[0m_fit\u001b[0m\u001b[0;34m(\u001b[0m\u001b[0mX\u001b[0m\u001b[0;34m,\u001b[0m \u001b[0my\u001b[0m\u001b[0;34m,\u001b[0m \u001b[0mgroups\u001b[0m\u001b[0;34m,\u001b[0m \u001b[0mparams_dict\u001b[0m\u001b[0;34m)\u001b[0m\u001b[0;34m\u001b[0m\u001b[0m\n\u001b[0m\u001b[1;32m    567\u001b[0m         \u001b[0mself\u001b[0m\u001b[0;34m.\u001b[0m\u001b[0mrefit\u001b[0m \u001b[0;34m=\u001b[0m \u001b[0mrefit\u001b[0m\u001b[0;34m\u001b[0m\u001b[0m\n\u001b[1;32m    568\u001b[0m \u001b[0;34m\u001b[0m\u001b[0m\n",
      "\u001b[0;32m~/anaconda3/lib/python3.6/site-packages/skopt/searchcv.py\u001b[0m in \u001b[0;36m_fit\u001b[0;34m(self, X, y, groups, parameter_iterable)\u001b[0m\n\u001b[1;32m    412\u001b[0m                 \u001b[0merror_score\u001b[0m\u001b[0;34m=\u001b[0m\u001b[0mself\u001b[0m\u001b[0;34m.\u001b[0m\u001b[0merror_score\u001b[0m\u001b[0;34m\u001b[0m\u001b[0m\n\u001b[1;32m    413\u001b[0m             )\n\u001b[0;32m--> 414\u001b[0;31m             \u001b[0;32mfor\u001b[0m \u001b[0mparameters\u001b[0m \u001b[0;32min\u001b[0m \u001b[0mparameter_iterable\u001b[0m\u001b[0;34m\u001b[0m\u001b[0m\n\u001b[0m\u001b[1;32m    415\u001b[0m             for train, test in cv_iter)\n\u001b[1;32m    416\u001b[0m \u001b[0;34m\u001b[0m\u001b[0m\n",
      "\u001b[0;32m~/anaconda3/lib/python3.6/site-packages/joblib/parallel.py\u001b[0m in \u001b[0;36m__call__\u001b[0;34m(self, iterable)\u001b[0m\n\u001b[1;32m   1015\u001b[0m \u001b[0;34m\u001b[0m\u001b[0m\n\u001b[1;32m   1016\u001b[0m             \u001b[0;32mwith\u001b[0m \u001b[0mself\u001b[0m\u001b[0;34m.\u001b[0m\u001b[0m_backend\u001b[0m\u001b[0;34m.\u001b[0m\u001b[0mretrieval_context\u001b[0m\u001b[0;34m(\u001b[0m\u001b[0;34m)\u001b[0m\u001b[0;34m:\u001b[0m\u001b[0;34m\u001b[0m\u001b[0m\n\u001b[0;32m-> 1017\u001b[0;31m                 \u001b[0mself\u001b[0m\u001b[0;34m.\u001b[0m\u001b[0mretrieve\u001b[0m\u001b[0;34m(\u001b[0m\u001b[0;34m)\u001b[0m\u001b[0;34m\u001b[0m\u001b[0m\n\u001b[0m\u001b[1;32m   1018\u001b[0m             \u001b[0;31m# Make sure that we get a last message telling us we are done\u001b[0m\u001b[0;34m\u001b[0m\u001b[0;34m\u001b[0m\u001b[0m\n\u001b[1;32m   1019\u001b[0m             \u001b[0melapsed_time\u001b[0m \u001b[0;34m=\u001b[0m \u001b[0mtime\u001b[0m\u001b[0;34m.\u001b[0m\u001b[0mtime\u001b[0m\u001b[0;34m(\u001b[0m\u001b[0;34m)\u001b[0m \u001b[0;34m-\u001b[0m \u001b[0mself\u001b[0m\u001b[0;34m.\u001b[0m\u001b[0m_start_time\u001b[0m\u001b[0;34m\u001b[0m\u001b[0m\n",
      "\u001b[0;32m~/anaconda3/lib/python3.6/site-packages/joblib/parallel.py\u001b[0m in \u001b[0;36mretrieve\u001b[0;34m(self)\u001b[0m\n\u001b[1;32m    907\u001b[0m             \u001b[0;32mtry\u001b[0m\u001b[0;34m:\u001b[0m\u001b[0;34m\u001b[0m\u001b[0m\n\u001b[1;32m    908\u001b[0m                 \u001b[0;32mif\u001b[0m \u001b[0mgetattr\u001b[0m\u001b[0;34m(\u001b[0m\u001b[0mself\u001b[0m\u001b[0;34m.\u001b[0m\u001b[0m_backend\u001b[0m\u001b[0;34m,\u001b[0m \u001b[0;34m'supports_timeout'\u001b[0m\u001b[0;34m,\u001b[0m \u001b[0;32mFalse\u001b[0m\u001b[0;34m)\u001b[0m\u001b[0;34m:\u001b[0m\u001b[0;34m\u001b[0m\u001b[0m\n\u001b[0;32m--> 909\u001b[0;31m                     \u001b[0mself\u001b[0m\u001b[0;34m.\u001b[0m\u001b[0m_output\u001b[0m\u001b[0;34m.\u001b[0m\u001b[0mextend\u001b[0m\u001b[0;34m(\u001b[0m\u001b[0mjob\u001b[0m\u001b[0;34m.\u001b[0m\u001b[0mget\u001b[0m\u001b[0;34m(\u001b[0m\u001b[0mtimeout\u001b[0m\u001b[0;34m=\u001b[0m\u001b[0mself\u001b[0m\u001b[0;34m.\u001b[0m\u001b[0mtimeout\u001b[0m\u001b[0;34m)\u001b[0m\u001b[0;34m)\u001b[0m\u001b[0;34m\u001b[0m\u001b[0m\n\u001b[0m\u001b[1;32m    910\u001b[0m                 \u001b[0;32melse\u001b[0m\u001b[0;34m:\u001b[0m\u001b[0;34m\u001b[0m\u001b[0m\n\u001b[1;32m    911\u001b[0m                     \u001b[0mself\u001b[0m\u001b[0;34m.\u001b[0m\u001b[0m_output\u001b[0m\u001b[0;34m.\u001b[0m\u001b[0mextend\u001b[0m\u001b[0;34m(\u001b[0m\u001b[0mjob\u001b[0m\u001b[0;34m.\u001b[0m\u001b[0mget\u001b[0m\u001b[0;34m(\u001b[0m\u001b[0;34m)\u001b[0m\u001b[0;34m)\u001b[0m\u001b[0;34m\u001b[0m\u001b[0m\n",
      "\u001b[0;32m~/anaconda3/lib/python3.6/site-packages/joblib/_parallel_backends.py\u001b[0m in \u001b[0;36mwrap_future_result\u001b[0;34m(future, timeout)\u001b[0m\n\u001b[1;32m    560\u001b[0m         AsyncResults.get from multiprocessing.\"\"\"\n\u001b[1;32m    561\u001b[0m         \u001b[0;32mtry\u001b[0m\u001b[0;34m:\u001b[0m\u001b[0;34m\u001b[0m\u001b[0m\n\u001b[0;32m--> 562\u001b[0;31m             \u001b[0;32mreturn\u001b[0m \u001b[0mfuture\u001b[0m\u001b[0;34m.\u001b[0m\u001b[0mresult\u001b[0m\u001b[0;34m(\u001b[0m\u001b[0mtimeout\u001b[0m\u001b[0;34m=\u001b[0m\u001b[0mtimeout\u001b[0m\u001b[0;34m)\u001b[0m\u001b[0;34m\u001b[0m\u001b[0m\n\u001b[0m\u001b[1;32m    563\u001b[0m         \u001b[0;32mexcept\u001b[0m \u001b[0mLokyTimeoutError\u001b[0m\u001b[0;34m:\u001b[0m\u001b[0;34m\u001b[0m\u001b[0m\n\u001b[1;32m    564\u001b[0m             \u001b[0;32mraise\u001b[0m \u001b[0mTimeoutError\u001b[0m\u001b[0;34m(\u001b[0m\u001b[0;34m)\u001b[0m\u001b[0;34m\u001b[0m\u001b[0m\n",
      "\u001b[0;32m~/anaconda3/lib/python3.6/concurrent/futures/_base.py\u001b[0m in \u001b[0;36mresult\u001b[0;34m(self, timeout)\u001b[0m\n\u001b[1;32m    425\u001b[0m                 \u001b[0;32mreturn\u001b[0m \u001b[0mself\u001b[0m\u001b[0;34m.\u001b[0m\u001b[0m__get_result\u001b[0m\u001b[0;34m(\u001b[0m\u001b[0;34m)\u001b[0m\u001b[0;34m\u001b[0m\u001b[0m\n\u001b[1;32m    426\u001b[0m \u001b[0;34m\u001b[0m\u001b[0m\n\u001b[0;32m--> 427\u001b[0;31m             \u001b[0mself\u001b[0m\u001b[0;34m.\u001b[0m\u001b[0m_condition\u001b[0m\u001b[0;34m.\u001b[0m\u001b[0mwait\u001b[0m\u001b[0;34m(\u001b[0m\u001b[0mtimeout\u001b[0m\u001b[0;34m)\u001b[0m\u001b[0;34m\u001b[0m\u001b[0m\n\u001b[0m\u001b[1;32m    428\u001b[0m \u001b[0;34m\u001b[0m\u001b[0m\n\u001b[1;32m    429\u001b[0m             \u001b[0;32mif\u001b[0m \u001b[0mself\u001b[0m\u001b[0;34m.\u001b[0m\u001b[0m_state\u001b[0m \u001b[0;32min\u001b[0m \u001b[0;34m[\u001b[0m\u001b[0mCANCELLED\u001b[0m\u001b[0;34m,\u001b[0m \u001b[0mCANCELLED_AND_NOTIFIED\u001b[0m\u001b[0;34m]\u001b[0m\u001b[0;34m:\u001b[0m\u001b[0;34m\u001b[0m\u001b[0m\n",
      "\u001b[0;32m~/anaconda3/lib/python3.6/threading.py\u001b[0m in \u001b[0;36mwait\u001b[0;34m(self, timeout)\u001b[0m\n\u001b[1;32m    293\u001b[0m         \u001b[0;32mtry\u001b[0m\u001b[0;34m:\u001b[0m    \u001b[0;31m# restore state no matter what (e.g., KeyboardInterrupt)\u001b[0m\u001b[0;34m\u001b[0m\u001b[0m\n\u001b[1;32m    294\u001b[0m             \u001b[0;32mif\u001b[0m \u001b[0mtimeout\u001b[0m \u001b[0;32mis\u001b[0m \u001b[0;32mNone\u001b[0m\u001b[0;34m:\u001b[0m\u001b[0;34m\u001b[0m\u001b[0m\n\u001b[0;32m--> 295\u001b[0;31m                 \u001b[0mwaiter\u001b[0m\u001b[0;34m.\u001b[0m\u001b[0macquire\u001b[0m\u001b[0;34m(\u001b[0m\u001b[0;34m)\u001b[0m\u001b[0;34m\u001b[0m\u001b[0m\n\u001b[0m\u001b[1;32m    296\u001b[0m                 \u001b[0mgotit\u001b[0m \u001b[0;34m=\u001b[0m \u001b[0;32mTrue\u001b[0m\u001b[0;34m\u001b[0m\u001b[0m\n\u001b[1;32m    297\u001b[0m             \u001b[0;32melse\u001b[0m\u001b[0;34m:\u001b[0m\u001b[0;34m\u001b[0m\u001b[0m\n",
      "\u001b[0;31mKeyboardInterrupt\u001b[0m: "
     ]
    }
   ],
   "source": [
    "result = xgb_tuner.fit(tuning_X.values, tuning_y.values, callback = status_print)"
   ]
  },
  {
   "cell_type": "markdown",
   "metadata": {},
   "source": [
    "## Train models  with tuned hyper parameters"
   ]
  },
  {
   "cell_type": "markdown",
   "metadata": {},
   "source": [
    "From BayesSearch, we find the best ROC-AUC to be:    **0.9726** (hold-out validation set within training set)\n",
    "\n",
    "Bestparams:\n",
    "- 'colsample_bytree': 0.8\n",
    "- 'gamma': 0\n",
    "- 'learning_rate': 0.1260482919019545\n",
    "- 'max_depth': 12\n",
    "- 'n_estimators': 200\n",
    "- 'subsample': 1.0"
   ]
  },
  {
   "cell_type": "code",
   "execution_count": 20,
   "metadata": {},
   "outputs": [],
   "source": [
    "params = {\n",
    "    'colsample_bytree': 0.8, 'gamma': 0, 'learning_rate': 0.1260482919019545,\\\n",
    "    'max_depth': 12,'n_estimators': 200, 'subsample': 1.0\n",
    "}"
   ]
  },
  {
   "cell_type": "code",
   "execution_count": 28,
   "metadata": {},
   "outputs": [
    {
     "name": "stdout",
     "output_type": "stream",
     "text": [
      "tuned model is fitted\n",
      "CPU times: user 5min 40s, sys: 1min 50s, total: 7min 31s\n",
      "Wall time: 7min 28s\n"
     ]
    }
   ],
   "source": [
    "# Fit model with feature set X1\n",
    "%%time\n",
    "X1_train, X1_val, y_train, y_val = train_test_split(X_train_1, y, test_size = test_size, random_state = seed)\n",
    "\n",
    "tuned_x1_model = xgb.XGBClassifier(eval_metric='auc', tree_method='gpu_hist', silent = 0,\\\n",
    "                                 objective='binary:logistic', scale_pos_weight = scale_pos_weight)\n",
    "tuned_x1_model.set_params(**params)\n",
    "tuned_x1_model.fit(X1_train, y_train)\n",
    "print(\"tuned model is fitted\")"
   ]
  },
  {
   "cell_type": "code",
   "execution_count": 29,
   "metadata": {},
   "outputs": [
    {
     "name": "stdout",
     "output_type": "stream",
     "text": [
      "ROC_AUC score: 97.47%\n",
      "CPU times: user 16 s, sys: 2.25 s, total: 18.2 s\n",
      "Wall time: 9.49 s\n"
     ]
    }
   ],
   "source": [
    "%%time\n",
    "tuned_x1_pred = tuned_x1_model.predict_proba(X1_val)[:, 1]\n",
    "auc_score = roc_auc_score(y_val, tuned_x1_pred)\n",
    "print(f\"ROC_AUC score: {auc_score* 100:.2f}%\")\n",
    "tuned_x1_frp, tuned_x1_tpr, _ = roc_curve(y_val, tuned_x1_pred)"
   ]
  },
  {
   "cell_type": "code",
   "execution_count": 32,
   "metadata": {},
   "outputs": [
    {
     "name": "stdout",
     "output_type": "stream",
     "text": [
      "tuned model is fitted\n",
      "CPU times: user 5min 31s, sys: 1min 48s, total: 7min 19s\n",
      "Wall time: 7min 15s\n"
     ]
    }
   ],
   "source": [
    "%%time\n",
    "# Fit model with feature set X2\n",
    "X2_train, X2_val, y_train, y_val = train_test_split(X_train_2, y, test_size = test_size, random_state = seed)\n",
    "tuned_x2_model = xgb.XGBClassifier(eval_metric='auc', tree_method='gpu_hist', silent = 0,\\\n",
    "                                 objective='binary:logistic', scale_pos_weight = scale_pos_weight)\n",
    "tuned_x2_model.set_params(**params)\n",
    "tuned_x2_model.fit(X2_train, y_train)\n",
    "print(\"tuned model is fitted\")"
   ]
  },
  {
   "cell_type": "code",
   "execution_count": 33,
   "metadata": {},
   "outputs": [
    {
     "name": "stdout",
     "output_type": "stream",
     "text": [
      "ROC_AUC score: 97.39%\n",
      "CPU times: user 15 s, sys: 2.21 s, total: 17.2 s\n",
      "Wall time: 9.19 s\n"
     ]
    }
   ],
   "source": [
    "%%time\n",
    "tuned_x2_pred = tuned_x2_model.predict_proba(X2_val)[:, 1]\n",
    "auc_score = roc_auc_score(y_val, tuned_x2_pred)\n",
    "print(f\"ROC_AUC score: {auc_score* 100:.2f}%\")\n",
    "tuned_x2_frp, tuned_x2_tpr, _ = roc_curve(y_val, tuned_x2_pred)"
   ]
  },
  {
   "cell_type": "markdown",
   "metadata": {},
   "source": [
    "## Predict fraud probabilities on test set and export to csv for Kaggle submission"
   ]
  },
  {
   "cell_type": "markdown",
   "metadata": {},
   "source": [
    "Since tuned XGBoost model feature set X1 outperforms feature set X2, we will use XGBoost model trained on set 1 to predict on text set."
   ]
  },
  {
   "cell_type": "code",
   "execution_count": 42,
   "metadata": {},
   "outputs": [
    {
     "data": {
      "text/plain": [
       "True"
      ]
     },
     "execution_count": 42,
     "metadata": {},
     "output_type": "execute_result"
    }
   ],
   "source": [
    "set(X_train_1.columns) == set(X_test_1.columns)"
   ]
  },
  {
   "cell_type": "code",
   "execution_count": 45,
   "metadata": {},
   "outputs": [],
   "source": [
    "X_test_aligned = X_test_1[X_train_1.columns]\n",
    "test_pred = tuned_x1_model.predict_proba(X_test_aligned)[:,1]"
   ]
  },
  {
   "cell_type": "code",
   "execution_count": 54,
   "metadata": {},
   "outputs": [],
   "source": [
    "sample_submission = pd.read_csv('./data/sample_submission.csv')\n",
    "sample_submission['isFraud'] = test_pred\n",
    "sample_submission.to_csv('xgb_test_predictions.csv', index = False)"
   ]
  },
  {
   "cell_type": "markdown",
   "metadata": {},
   "source": [
    "## Understanding the models"
   ]
  },
  {
   "cell_type": "code",
   "execution_count": 48,
   "metadata": {},
   "outputs": [
    {
     "data": {
      "text/html": [
       "<div>\n",
       "<style scoped>\n",
       "    .dataframe tbody tr th:only-of-type {\n",
       "        vertical-align: middle;\n",
       "    }\n",
       "\n",
       "    .dataframe tbody tr th {\n",
       "        vertical-align: top;\n",
       "    }\n",
       "\n",
       "    .dataframe thead th {\n",
       "        text-align: right;\n",
       "    }\n",
       "</style>\n",
       "<table border=\"1\" class=\"dataframe\">\n",
       "  <thead>\n",
       "    <tr style=\"text-align: right;\">\n",
       "      <th></th>\n",
       "      <th>Value</th>\n",
       "      <th>Feature</th>\n",
       "    </tr>\n",
       "  </thead>\n",
       "  <tbody>\n",
       "    <tr>\n",
       "      <th>0</th>\n",
       "      <td>0.117279</td>\n",
       "      <td>V258</td>\n",
       "    </tr>\n",
       "    <tr>\n",
       "      <th>1</th>\n",
       "      <td>0.034628</td>\n",
       "      <td>DeviceInfo_hi6210sft build/mra58k</td>\n",
       "    </tr>\n",
       "    <tr>\n",
       "      <th>2</th>\n",
       "      <td>0.033791</td>\n",
       "      <td>V326</td>\n",
       "    </tr>\n",
       "    <tr>\n",
       "      <th>3</th>\n",
       "      <td>0.024371</td>\n",
       "      <td>V70</td>\n",
       "    </tr>\n",
       "    <tr>\n",
       "      <th>4</th>\n",
       "      <td>0.019104</td>\n",
       "      <td>ProductCD_W</td>\n",
       "    </tr>\n",
       "    <tr>\n",
       "      <th>5</th>\n",
       "      <td>0.018851</td>\n",
       "      <td>V257</td>\n",
       "    </tr>\n",
       "    <tr>\n",
       "      <th>6</th>\n",
       "      <td>0.017821</td>\n",
       "      <td>C7</td>\n",
       "    </tr>\n",
       "    <tr>\n",
       "      <th>7</th>\n",
       "      <td>0.017703</td>\n",
       "      <td>V201</td>\n",
       "    </tr>\n",
       "    <tr>\n",
       "      <th>8</th>\n",
       "      <td>0.016052</td>\n",
       "      <td>V283</td>\n",
       "    </tr>\n",
       "    <tr>\n",
       "      <th>9</th>\n",
       "      <td>0.015463</td>\n",
       "      <td>V91</td>\n",
       "    </tr>\n",
       "  </tbody>\n",
       "</table>\n",
       "</div>"
      ],
      "text/plain": [
       "      Value                            Feature\n",
       "0  0.117279                               V258\n",
       "1  0.034628  DeviceInfo_hi6210sft build/mra58k\n",
       "2  0.033791                               V326\n",
       "3  0.024371                                V70\n",
       "4  0.019104                        ProductCD_W\n",
       "5  0.018851                               V257\n",
       "6  0.017821                                 C7\n",
       "7  0.017703                               V201\n",
       "8  0.016052                               V283\n",
       "9  0.015463                                V91"
      ]
     },
     "execution_count": 48,
     "metadata": {},
     "output_type": "execute_result"
    }
   ],
   "source": [
    "feature_imp_x1 = pd.DataFrame(zip(tuned_x1_model.feature_importances_,X_train_1.columns), columns=['Value','Feature'])\n",
    "feature_imp_x1 = feature_imp_x1.sort_values('Value', ascending = False).reset_index(drop = True)\n",
    "feature_imp_x1.head(10)"
   ]
  },
  {
   "cell_type": "code",
   "execution_count": 49,
   "metadata": {},
   "outputs": [
    {
     "data": {
      "text/html": [
       "<div>\n",
       "<style scoped>\n",
       "    .dataframe tbody tr th:only-of-type {\n",
       "        vertical-align: middle;\n",
       "    }\n",
       "\n",
       "    .dataframe tbody tr th {\n",
       "        vertical-align: top;\n",
       "    }\n",
       "\n",
       "    .dataframe thead th {\n",
       "        text-align: right;\n",
       "    }\n",
       "</style>\n",
       "<table border=\"1\" class=\"dataframe\">\n",
       "  <thead>\n",
       "    <tr style=\"text-align: right;\">\n",
       "      <th></th>\n",
       "      <th>Value</th>\n",
       "      <th>Feature</th>\n",
       "    </tr>\n",
       "  </thead>\n",
       "  <tbody>\n",
       "    <tr>\n",
       "      <th>0</th>\n",
       "      <td>0.112938</td>\n",
       "      <td>V258</td>\n",
       "    </tr>\n",
       "    <tr>\n",
       "      <th>1</th>\n",
       "      <td>0.036782</td>\n",
       "      <td>V201</td>\n",
       "    </tr>\n",
       "    <tr>\n",
       "      <th>2</th>\n",
       "      <td>0.033067</td>\n",
       "      <td>addr2</td>\n",
       "    </tr>\n",
       "    <tr>\n",
       "      <th>3</th>\n",
       "      <td>0.029199</td>\n",
       "      <td>DeviceInfo_hi6210sft build/mra58k</td>\n",
       "    </tr>\n",
       "    <tr>\n",
       "      <th>4</th>\n",
       "      <td>0.026023</td>\n",
       "      <td>V91</td>\n",
       "    </tr>\n",
       "    <tr>\n",
       "      <th>5</th>\n",
       "      <td>0.023387</td>\n",
       "      <td>V70</td>\n",
       "    </tr>\n",
       "    <tr>\n",
       "      <th>6</th>\n",
       "      <td>0.023297</td>\n",
       "      <td>ProductCD_W</td>\n",
       "    </tr>\n",
       "    <tr>\n",
       "      <th>7</th>\n",
       "      <td>0.017257</td>\n",
       "      <td>V257</td>\n",
       "    </tr>\n",
       "    <tr>\n",
       "      <th>8</th>\n",
       "      <td>0.016975</td>\n",
       "      <td>V283</td>\n",
       "    </tr>\n",
       "    <tr>\n",
       "      <th>9</th>\n",
       "      <td>0.013765</td>\n",
       "      <td>id_12_NotFound</td>\n",
       "    </tr>\n",
       "  </tbody>\n",
       "</table>\n",
       "</div>"
      ],
      "text/plain": [
       "      Value                            Feature\n",
       "0  0.112938                               V258\n",
       "1  0.036782                               V201\n",
       "2  0.033067                              addr2\n",
       "3  0.029199  DeviceInfo_hi6210sft build/mra58k\n",
       "4  0.026023                                V91\n",
       "5  0.023387                                V70\n",
       "6  0.023297                        ProductCD_W\n",
       "7  0.017257                               V257\n",
       "8  0.016975                               V283\n",
       "9  0.013765                     id_12_NotFound"
      ]
     },
     "execution_count": 49,
     "metadata": {},
     "output_type": "execute_result"
    }
   ],
   "source": [
    "feature_imp_x2 = pd.DataFrame(zip(tuned_x2_model.feature_importances_,X_train_2.columns), columns=['Value','Feature'])\n",
    "feature_imp_x2 = feature_imp_x2.sort_values('Value', ascending = False).reset_index(drop = True)\n",
    "feature_imp_x2.head(10)"
   ]
  },
  {
   "cell_type": "code",
   "execution_count": 55,
   "metadata": {},
   "outputs": [
    {
     "data": {
      "image/png": "[encoded data removed]",
      "text/plain": [
       "<Figure size 1080x720 with 1 Axes>"
      ]
     },
     "metadata": {},
     "output_type": "display_data"
    }
   ],
   "source": [
    "# Plot ROC curve across models\n",
    "\n",
    "# Define true-positive and false-positive for no skill predictions\n",
    "no_skill_pred = [0 for _ in range(len(y_val))]\n",
    "ns_frp, ns_tpr, _ = roc_curve(y_val, no_skill_pred)\n",
    "\n",
    "plt.figure(figsize=(15, 10))\n",
    "plt.plot(ns_frp, ns_tpr, linestyle = '--', label='No Skill')\n",
    "# Update\n",
    "plt.plot(base_x1_frp, base_x1_tpr, marker = '.', label='Default XGB Model')\n",
    "plt.plot(tuned_x1_frp, tuned_x1_tpr, marker = '.', label='Tuned XGB Model using X1')\n",
    "plt.plot(tuned_x2_frp, tuned_x2_tpr, marker = '.', label='Tuned XGB Model using X2')\n",
    "plt.title('ROC Curve')\n",
    "plt.xlabel('False Positive Rate')\n",
    "plt.ylabel('True Positive Rate')\n",
    "plt.legend()\n",
    "plt.show()"
   ]
  },
  {
   "cell_type": "code",
   "execution_count": 58,
   "metadata": {},
   "outputs": [
    {
     "data": {
      "image/png": "[encoded data removed]",
      "text/plain": [
       "<Figure size 1440x1440 with 1 Axes>"
      ]
     },
     "metadata": {},
     "output_type": "display_data"
    },
    {
     "name": "stdout",
     "output_type": "stream",
     "text": [
      "CPU times: user 819 ms, sys: 324 ms, total: 1.14 s\n",
      "Wall time: 563 ms\n"
     ]
    }
   ],
   "source": [
    "%%time\n",
    "# Understand feature importance in the best model\n",
    "plt.figure(figsize=(20, 20))\n",
    "sns.barplot(x=\"Value\", y=\"Feature\", data=feature_imp_x1.sort_values(by=\"Value\", ascending=False).iloc[:20],\\\n",
    "            palette = \"Blues_d\")\n",
    "plt.title('Tuned XGB Model using X1- Feature Importance')\n",
    "plt.tight_layout()\n",
    "plt.show()"
   ]
  },
  {
   "cell_type": "code",
   "execution_count": 59,
   "metadata": {},
   "outputs": [
    {
     "data": {
      "image/png": "[encoded data removed]",
      "text/plain": [
       "<Figure size 1440x1440 with 1 Axes>"
      ]
     },
     "metadata": {},
     "output_type": "display_data"
    },
    {
     "name": "stdout",
     "output_type": "stream",
     "text": [
      "CPU times: user 928 ms, sys: 213 ms, total: 1.14 s\n",
      "Wall time: 562 ms\n"
     ]
    }
   ],
   "source": [
    "%%time\n",
    "# Understand feature importance in the best model\n",
    "plt.figure(figsize=(20, 20))\n",
    "sns.barplot(x=\"Value\", y=\"Feature\", data=feature_imp_x2.sort_values(by=\"Value\", ascending=False).iloc[:20],\\\n",
    "            palette = \"Blues_d\")\n",
    "plt.title('XGB XGB Tuned Model using X2- Feature Importance')\n",
    "plt.tight_layout()\n",
    "plt.show()"
   ]
  },
  {
   "cell_type": "markdown",
   "metadata": {},
   "source": [
    "## Save Deliverables\n",
    "We will save the following deliverables:\n",
    "\n",
    "- Model [pkl format]\n",
    "- Predicted Probability of validation data (B) [dataframe format]\n",
    "- Feature Importance [dataframe format]\n",
    "- ROC curve [png]\n",
    "- Feature Importance [png]"
   ]
  },
  {
   "cell_type": "code",
   "execution_count": 63,
   "metadata": {},
   "outputs": [],
   "source": [
    "# Save data for plots and model comparison\n",
    "# 1) Model\n",
    "joblib.dump(tuned_x1_model, './results/XGB_X1.pkl') \n",
    "joblib.dump(tuned_x2_model, './results/XGB_X2.pkl') \n",
    "\n",
    "# 2) Feature Importance\n",
    "feature_imp_x1.to_pickle(\"./results/XGB_X1_feature_importance.pkl\")\n",
    "feature_imp_x2.to_pickle(\"./results/XGB_X2_feature_importance.pkl\")\n",
    "\n",
    "# 3) Val Predictions\n",
    "validation_results_x1 = pd.DataFrame(zip(y_val, tuned_x1_pred), columns=['True Label','Predicted Label'])\n",
    "validation_results_x1.to_pickle(\"./results/XGB_X1_validation_results.pkl\")\n",
    "validation_results_x2 = pd.DataFrame(zip(y_val, tuned_x2_pred), columns=['True Label','Predicted Label'])\n",
    "validation_results_x2.to_pickle(\"./results/XGB_X2_validation_results.pkl\")"
   ]
  }
 ],
 "metadata": {
  "kernelspec": {
   "display_name": "Python 3",
   "language": "python",
   "name": "python3"
  },
  "language_info": {
   "codemirror_mode": {
    "name": "ipython",
    "version": 3
   },
   "file_extension": ".py",
   "mimetype": "text/x-python",
   "name": "python",
   "nbconvert_exporter": "python",
   "pygments_lexer": "ipython3",
   "version": "3.6.6"
  }
 },
 "nbformat": 4,
 "nbformat_minor": 4
}
