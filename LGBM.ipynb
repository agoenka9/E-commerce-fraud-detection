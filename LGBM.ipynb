{
 "cells": [
  {
   "cell_type": "markdown",
   "metadata": {},
   "source": [
    "# E-commerce Fraud Detection Analysis"
   ]
  },
  {
   "cell_type": "markdown",
   "metadata": {},
   "source": [
    "## 1. Exploratory Data Analysis"
   ]
  },
  {
   "cell_type": "markdown",
   "metadata": {},
   "source": [
    "### Read CSV and understand data format"
   ]
  },
  {
   "cell_type": "code",
   "execution_count": 50,
   "metadata": {},
   "outputs": [],
   "source": [
    "import glob\n",
    "import pandas as pd\n",
    "import seaborn as sns\n",
    "import matplotlib.pyplot as plt"
   ]
  },
  {
   "cell_type": "code",
   "execution_count": 51,
   "metadata": {},
   "outputs": [
    {
     "data": {
      "text/plain": [
       "['./data\\\\sample_submission.csv',\n",
       " './data\\\\test_identity.csv',\n",
       " './data\\\\test_transaction.csv',\n",
       " './data\\\\train_identity.csv',\n",
       " './data\\\\train_transaction.csv']"
      ]
     },
     "execution_count": 51,
     "metadata": {},
     "output_type": "execute_result"
    }
   ],
   "source": [
    "# datafiles\n",
    "glob.glob('./data/*')"
   ]
  },
  {
   "cell_type": "code",
   "execution_count": 52,
   "metadata": {},
   "outputs": [],
   "source": [
    "df_id = pd.read_csv('./data/train_identity.csv')\n",
    "df_transaction = pd.read_csv('./data/train_transaction.csv')"
   ]
  },
  {
   "cell_type": "markdown",
   "metadata": {},
   "source": [
    "### Identity Table\n",
    "\n",
    "There are 41 columns in this table, including different \n",
    "identity information such as network connection information (IP, ISP, Proxy, etc) and digital signature (UA/browser/os/version, etc) associated with transactions. These data is collected by Vesta’s fraud protection system and digital security partners. Field names are masked for privacy reasons.\n",
    "\n",
    "Categorical Features:\n",
    "- DeviceType\n",
    "- DeviceInfo\n",
    "- id12 - id38"
   ]
  },
  {
   "cell_type": "code",
   "execution_count": 53,
   "metadata": {},
   "outputs": [
    {
     "data": {
      "text/html": [
       "<div>\n",
       "<style scoped>\n",
       "    .dataframe tbody tr th:only-of-type {\n",
       "        vertical-align: middle;\n",
       "    }\n",
       "\n",
       "    .dataframe tbody tr th {\n",
       "        vertical-align: top;\n",
       "    }\n",
       "\n",
       "    .dataframe thead th {\n",
       "        text-align: right;\n",
       "    }\n",
       "</style>\n",
       "<table border=\"1\" class=\"dataframe\">\n",
       "  <thead>\n",
       "    <tr style=\"text-align: right;\">\n",
       "      <th></th>\n",
       "      <th>TransactionID</th>\n",
       "      <th>id_01</th>\n",
       "      <th>id_02</th>\n",
       "      <th>id_03</th>\n",
       "      <th>id_04</th>\n",
       "      <th>id_05</th>\n",
       "      <th>id_06</th>\n",
       "      <th>id_07</th>\n",
       "      <th>id_08</th>\n",
       "      <th>id_09</th>\n",
       "      <th>...</th>\n",
       "      <th>id_31</th>\n",
       "      <th>id_32</th>\n",
       "      <th>id_33</th>\n",
       "      <th>id_34</th>\n",
       "      <th>id_35</th>\n",
       "      <th>id_36</th>\n",
       "      <th>id_37</th>\n",
       "      <th>id_38</th>\n",
       "      <th>DeviceType</th>\n",
       "      <th>DeviceInfo</th>\n",
       "    </tr>\n",
       "  </thead>\n",
       "  <tbody>\n",
       "    <tr>\n",
       "      <th>0</th>\n",
       "      <td>2987004</td>\n",
       "      <td>0.0</td>\n",
       "      <td>70787.0</td>\n",
       "      <td>NaN</td>\n",
       "      <td>NaN</td>\n",
       "      <td>NaN</td>\n",
       "      <td>NaN</td>\n",
       "      <td>NaN</td>\n",
       "      <td>NaN</td>\n",
       "      <td>NaN</td>\n",
       "      <td>...</td>\n",
       "      <td>samsung browser 6.2</td>\n",
       "      <td>32.0</td>\n",
       "      <td>2220x1080</td>\n",
       "      <td>match_status:2</td>\n",
       "      <td>T</td>\n",
       "      <td>F</td>\n",
       "      <td>T</td>\n",
       "      <td>T</td>\n",
       "      <td>mobile</td>\n",
       "      <td>SAMSUNG SM-G892A Build/NRD90M</td>\n",
       "    </tr>\n",
       "    <tr>\n",
       "      <th>1</th>\n",
       "      <td>2987008</td>\n",
       "      <td>-5.0</td>\n",
       "      <td>98945.0</td>\n",
       "      <td>NaN</td>\n",
       "      <td>NaN</td>\n",
       "      <td>0.0</td>\n",
       "      <td>-5.0</td>\n",
       "      <td>NaN</td>\n",
       "      <td>NaN</td>\n",
       "      <td>NaN</td>\n",
       "      <td>...</td>\n",
       "      <td>mobile safari 11.0</td>\n",
       "      <td>32.0</td>\n",
       "      <td>1334x750</td>\n",
       "      <td>match_status:1</td>\n",
       "      <td>T</td>\n",
       "      <td>F</td>\n",
       "      <td>F</td>\n",
       "      <td>T</td>\n",
       "      <td>mobile</td>\n",
       "      <td>iOS Device</td>\n",
       "    </tr>\n",
       "    <tr>\n",
       "      <th>2</th>\n",
       "      <td>2987010</td>\n",
       "      <td>-5.0</td>\n",
       "      <td>191631.0</td>\n",
       "      <td>0.0</td>\n",
       "      <td>0.0</td>\n",
       "      <td>0.0</td>\n",
       "      <td>0.0</td>\n",
       "      <td>NaN</td>\n",
       "      <td>NaN</td>\n",
       "      <td>0.0</td>\n",
       "      <td>...</td>\n",
       "      <td>chrome 62.0</td>\n",
       "      <td>NaN</td>\n",
       "      <td>NaN</td>\n",
       "      <td>NaN</td>\n",
       "      <td>F</td>\n",
       "      <td>F</td>\n",
       "      <td>T</td>\n",
       "      <td>T</td>\n",
       "      <td>desktop</td>\n",
       "      <td>Windows</td>\n",
       "    </tr>\n",
       "    <tr>\n",
       "      <th>3</th>\n",
       "      <td>2987011</td>\n",
       "      <td>-5.0</td>\n",
       "      <td>221832.0</td>\n",
       "      <td>NaN</td>\n",
       "      <td>NaN</td>\n",
       "      <td>0.0</td>\n",
       "      <td>-6.0</td>\n",
       "      <td>NaN</td>\n",
       "      <td>NaN</td>\n",
       "      <td>NaN</td>\n",
       "      <td>...</td>\n",
       "      <td>chrome 62.0</td>\n",
       "      <td>NaN</td>\n",
       "      <td>NaN</td>\n",
       "      <td>NaN</td>\n",
       "      <td>F</td>\n",
       "      <td>F</td>\n",
       "      <td>T</td>\n",
       "      <td>T</td>\n",
       "      <td>desktop</td>\n",
       "      <td>NaN</td>\n",
       "    </tr>\n",
       "    <tr>\n",
       "      <th>4</th>\n",
       "      <td>2987016</td>\n",
       "      <td>0.0</td>\n",
       "      <td>7460.0</td>\n",
       "      <td>0.0</td>\n",
       "      <td>0.0</td>\n",
       "      <td>1.0</td>\n",
       "      <td>0.0</td>\n",
       "      <td>NaN</td>\n",
       "      <td>NaN</td>\n",
       "      <td>0.0</td>\n",
       "      <td>...</td>\n",
       "      <td>chrome 62.0</td>\n",
       "      <td>24.0</td>\n",
       "      <td>1280x800</td>\n",
       "      <td>match_status:2</td>\n",
       "      <td>T</td>\n",
       "      <td>F</td>\n",
       "      <td>T</td>\n",
       "      <td>T</td>\n",
       "      <td>desktop</td>\n",
       "      <td>MacOS</td>\n",
       "    </tr>\n",
       "  </tbody>\n",
       "</table>\n",
       "<p>5 rows × 41 columns</p>\n",
       "</div>"
      ],
      "text/plain": [
       "   TransactionID  id_01     id_02  id_03  id_04  id_05  id_06  id_07  id_08  \\\n",
       "0        2987004    0.0   70787.0    NaN    NaN    NaN    NaN    NaN    NaN   \n",
       "1        2987008   -5.0   98945.0    NaN    NaN    0.0   -5.0    NaN    NaN   \n",
       "2        2987010   -5.0  191631.0    0.0    0.0    0.0    0.0    NaN    NaN   \n",
       "3        2987011   -5.0  221832.0    NaN    NaN    0.0   -6.0    NaN    NaN   \n",
       "4        2987016    0.0    7460.0    0.0    0.0    1.0    0.0    NaN    NaN   \n",
       "\n",
       "   id_09  ...                id_31  id_32      id_33           id_34  id_35  \\\n",
       "0    NaN  ...  samsung browser 6.2   32.0  2220x1080  match_status:2      T   \n",
       "1    NaN  ...   mobile safari 11.0   32.0   1334x750  match_status:1      T   \n",
       "2    0.0  ...          chrome 62.0    NaN        NaN             NaN      F   \n",
       "3    NaN  ...          chrome 62.0    NaN        NaN             NaN      F   \n",
       "4    0.0  ...          chrome 62.0   24.0   1280x800  match_status:2      T   \n",
       "\n",
       "  id_36 id_37  id_38  DeviceType                     DeviceInfo  \n",
       "0     F     T      T      mobile  SAMSUNG SM-G892A Build/NRD90M  \n",
       "1     F     F      T      mobile                     iOS Device  \n",
       "2     F     T      T     desktop                        Windows  \n",
       "3     F     T      T     desktop                            NaN  \n",
       "4     F     T      T     desktop                          MacOS  \n",
       "\n",
       "[5 rows x 41 columns]"
      ]
     },
     "execution_count": 53,
     "metadata": {},
     "output_type": "execute_result"
    }
   ],
   "source": [
    "df_id.head()"
   ]
  },
  {
   "cell_type": "code",
   "execution_count": 54,
   "metadata": {},
   "outputs": [
    {
     "data": {
      "text/plain": [
       "41"
      ]
     },
     "execution_count": 54,
     "metadata": {},
     "output_type": "execute_result"
    }
   ],
   "source": [
    "len(df_id.columns)"
   ]
  },
  {
   "cell_type": "markdown",
   "metadata": {},
   "source": [
    "### Transaction Table\n",
    "\n",
    "There are 394 columns in this table. The organization provided additinoal explanation regarding these variables.\n",
    "- TransactionDT: timedelta from a given reference datetime (not an actual timestamp)\n",
    "- TransactionAMT: transaction payment amount in USD\n",
    "- ProductCD: product code, the product for each transaction\n",
    "- card1 - card6: payment card information, such as card type, card category, issue bank, country, etc.\n",
    "- addr: address\n",
    "- dist: distance\n",
    "- P_ and (R__) emaildomain: purchaser and recipient email domain\n",
    "- C1-C14: counting, such as how many addresses are found to be associated with the payment card, etc. The actual meaning is masked.\n",
    "- D1-D15: timedelta, such as days between previous transaction, etc.\n",
    "- M1-M9: match, such as names on card and address, etc.\n",
    "- Vxxx: Vesta engineered rich features, including ranking, counting, and other entity relations.\n",
    "\n",
    "Categorical Features:\n",
    "- ProductCD\n",
    "- card1 - card6\n",
    "- addr1, addr2\n",
    "- Pemaildomain Remaildomain\n",
    "- M1 - M9"
   ]
  },
  {
   "cell_type": "code",
   "execution_count": 55,
   "metadata": {},
   "outputs": [
    {
     "data": {
      "text/html": [
       "<div>\n",
       "<style scoped>\n",
       "    .dataframe tbody tr th:only-of-type {\n",
       "        vertical-align: middle;\n",
       "    }\n",
       "\n",
       "    .dataframe tbody tr th {\n",
       "        vertical-align: top;\n",
       "    }\n",
       "\n",
       "    .dataframe thead th {\n",
       "        text-align: right;\n",
       "    }\n",
       "</style>\n",
       "<table border=\"1\" class=\"dataframe\">\n",
       "  <thead>\n",
       "    <tr style=\"text-align: right;\">\n",
       "      <th></th>\n",
       "      <th>TransactionID</th>\n",
       "      <th>isFraud</th>\n",
       "      <th>TransactionDT</th>\n",
       "      <th>TransactionAmt</th>\n",
       "      <th>ProductCD</th>\n",
       "      <th>card1</th>\n",
       "      <th>card2</th>\n",
       "      <th>card3</th>\n",
       "      <th>card4</th>\n",
       "      <th>card5</th>\n",
       "      <th>...</th>\n",
       "      <th>V330</th>\n",
       "      <th>V331</th>\n",
       "      <th>V332</th>\n",
       "      <th>V333</th>\n",
       "      <th>V334</th>\n",
       "      <th>V335</th>\n",
       "      <th>V336</th>\n",
       "      <th>V337</th>\n",
       "      <th>V338</th>\n",
       "      <th>V339</th>\n",
       "    </tr>\n",
       "  </thead>\n",
       "  <tbody>\n",
       "    <tr>\n",
       "      <th>0</th>\n",
       "      <td>2987000</td>\n",
       "      <td>0</td>\n",
       "      <td>86400</td>\n",
       "      <td>68.5</td>\n",
       "      <td>W</td>\n",
       "      <td>13926</td>\n",
       "      <td>NaN</td>\n",
       "      <td>150.0</td>\n",
       "      <td>discover</td>\n",
       "      <td>142.0</td>\n",
       "      <td>...</td>\n",
       "      <td>NaN</td>\n",
       "      <td>NaN</td>\n",
       "      <td>NaN</td>\n",
       "      <td>NaN</td>\n",
       "      <td>NaN</td>\n",
       "      <td>NaN</td>\n",
       "      <td>NaN</td>\n",
       "      <td>NaN</td>\n",
       "      <td>NaN</td>\n",
       "      <td>NaN</td>\n",
       "    </tr>\n",
       "    <tr>\n",
       "      <th>1</th>\n",
       "      <td>2987001</td>\n",
       "      <td>0</td>\n",
       "      <td>86401</td>\n",
       "      <td>29.0</td>\n",
       "      <td>W</td>\n",
       "      <td>2755</td>\n",
       "      <td>404.0</td>\n",
       "      <td>150.0</td>\n",
       "      <td>mastercard</td>\n",
       "      <td>102.0</td>\n",
       "      <td>...</td>\n",
       "      <td>NaN</td>\n",
       "      <td>NaN</td>\n",
       "      <td>NaN</td>\n",
       "      <td>NaN</td>\n",
       "      <td>NaN</td>\n",
       "      <td>NaN</td>\n",
       "      <td>NaN</td>\n",
       "      <td>NaN</td>\n",
       "      <td>NaN</td>\n",
       "      <td>NaN</td>\n",
       "    </tr>\n",
       "    <tr>\n",
       "      <th>2</th>\n",
       "      <td>2987002</td>\n",
       "      <td>0</td>\n",
       "      <td>86469</td>\n",
       "      <td>59.0</td>\n",
       "      <td>W</td>\n",
       "      <td>4663</td>\n",
       "      <td>490.0</td>\n",
       "      <td>150.0</td>\n",
       "      <td>visa</td>\n",
       "      <td>166.0</td>\n",
       "      <td>...</td>\n",
       "      <td>NaN</td>\n",
       "      <td>NaN</td>\n",
       "      <td>NaN</td>\n",
       "      <td>NaN</td>\n",
       "      <td>NaN</td>\n",
       "      <td>NaN</td>\n",
       "      <td>NaN</td>\n",
       "      <td>NaN</td>\n",
       "      <td>NaN</td>\n",
       "      <td>NaN</td>\n",
       "    </tr>\n",
       "    <tr>\n",
       "      <th>3</th>\n",
       "      <td>2987003</td>\n",
       "      <td>0</td>\n",
       "      <td>86499</td>\n",
       "      <td>50.0</td>\n",
       "      <td>W</td>\n",
       "      <td>18132</td>\n",
       "      <td>567.0</td>\n",
       "      <td>150.0</td>\n",
       "      <td>mastercard</td>\n",
       "      <td>117.0</td>\n",
       "      <td>...</td>\n",
       "      <td>NaN</td>\n",
       "      <td>NaN</td>\n",
       "      <td>NaN</td>\n",
       "      <td>NaN</td>\n",
       "      <td>NaN</td>\n",
       "      <td>NaN</td>\n",
       "      <td>NaN</td>\n",
       "      <td>NaN</td>\n",
       "      <td>NaN</td>\n",
       "      <td>NaN</td>\n",
       "    </tr>\n",
       "    <tr>\n",
       "      <th>4</th>\n",
       "      <td>2987004</td>\n",
       "      <td>0</td>\n",
       "      <td>86506</td>\n",
       "      <td>50.0</td>\n",
       "      <td>H</td>\n",
       "      <td>4497</td>\n",
       "      <td>514.0</td>\n",
       "      <td>150.0</td>\n",
       "      <td>mastercard</td>\n",
       "      <td>102.0</td>\n",
       "      <td>...</td>\n",
       "      <td>0.0</td>\n",
       "      <td>0.0</td>\n",
       "      <td>0.0</td>\n",
       "      <td>0.0</td>\n",
       "      <td>0.0</td>\n",
       "      <td>0.0</td>\n",
       "      <td>0.0</td>\n",
       "      <td>0.0</td>\n",
       "      <td>0.0</td>\n",
       "      <td>0.0</td>\n",
       "    </tr>\n",
       "  </tbody>\n",
       "</table>\n",
       "<p>5 rows × 394 columns</p>\n",
       "</div>"
      ],
      "text/plain": [
       "   TransactionID  isFraud  TransactionDT  TransactionAmt ProductCD  card1  \\\n",
       "0        2987000        0          86400            68.5         W  13926   \n",
       "1        2987001        0          86401            29.0         W   2755   \n",
       "2        2987002        0          86469            59.0         W   4663   \n",
       "3        2987003        0          86499            50.0         W  18132   \n",
       "4        2987004        0          86506            50.0         H   4497   \n",
       "\n",
       "   card2  card3       card4  card5  ... V330  V331  V332  V333  V334 V335  \\\n",
       "0    NaN  150.0    discover  142.0  ...  NaN   NaN   NaN   NaN   NaN  NaN   \n",
       "1  404.0  150.0  mastercard  102.0  ...  NaN   NaN   NaN   NaN   NaN  NaN   \n",
       "2  490.0  150.0        visa  166.0  ...  NaN   NaN   NaN   NaN   NaN  NaN   \n",
       "3  567.0  150.0  mastercard  117.0  ...  NaN   NaN   NaN   NaN   NaN  NaN   \n",
       "4  514.0  150.0  mastercard  102.0  ...  0.0   0.0   0.0   0.0   0.0  0.0   \n",
       "\n",
       "  V336  V337  V338  V339  \n",
       "0  NaN   NaN   NaN   NaN  \n",
       "1  NaN   NaN   NaN   NaN  \n",
       "2  NaN   NaN   NaN   NaN  \n",
       "3  NaN   NaN   NaN   NaN  \n",
       "4  0.0   0.0   0.0   0.0  \n",
       "\n",
       "[5 rows x 394 columns]"
      ]
     },
     "execution_count": 55,
     "metadata": {},
     "output_type": "execute_result"
    }
   ],
   "source": [
    "df_transaction.head()"
   ]
  },
  {
   "cell_type": "code",
   "execution_count": 56,
   "metadata": {},
   "outputs": [
    {
     "data": {
      "text/plain": [
       "394"
      ]
     },
     "execution_count": 56,
     "metadata": {},
     "output_type": "execute_result"
    }
   ],
   "source": [
    "len(df_transaction.columns)"
   ]
  },
  {
   "cell_type": "markdown",
   "metadata": {},
   "source": [
    "### Data Exploration"
   ]
  },
  {
   "cell_type": "code",
   "execution_count": 57,
   "metadata": {},
   "outputs": [],
   "source": [
    "df = df_id.join(df_transaction.set_index('TransactionID'), on='TransactionID')"
   ]
  },
  {
   "cell_type": "markdown",
   "metadata": {},
   "source": [
    "Out of 590,540 data records, only ~3.5% are fraud transactions. It is very likely to encounter inbalanced classes in fraud detection problems. We will experiment with different ways to handle this, including various data sampling methods and using non-accuracy measures to evaluate model."
   ]
  },
  {
   "cell_type": "code",
   "execution_count": 58,
   "metadata": {},
   "outputs": [
    {
     "data": {
      "text/plain": [
       "('Total number of Transactions', 590540)"
      ]
     },
     "execution_count": 58,
     "metadata": {},
     "output_type": "execute_result"
    }
   ],
   "source": [
    "'Total number of Transactions', len(df_transaction.isFraud)"
   ]
  },
  {
   "cell_type": "code",
   "execution_count": 59,
   "metadata": {},
   "outputs": [
    {
     "data": {
      "text/plain": [
       "('Ratio of fradulent transactions', 0.03499)"
      ]
     },
     "execution_count": 59,
     "metadata": {},
     "output_type": "execute_result"
    },
    {
     "data": {
      "image/png": "[encoded data removed]",
      "text/plain": [
       "<Figure size 432x288 with 1 Axes>"
      ]
     },
     "metadata": {
      "needs_background": "light"
     },
     "output_type": "display_data"
    }
   ],
   "source": [
    "sns.set_palette('GnBu_d')\n",
    "sns.countplot(x = 'isFraud', data = df_transaction)\n",
    "'Ratio of fradulent transactions'\\\n",
    ", round(sum(df_transaction.isFraud)/ len(df_transaction.isFraud),5)"
   ]
  },
  {
   "cell_type": "code",
   "execution_count": null,
   "metadata": {},
   "outputs": [],
   "source": [
    "# Understand feature importance in the model\n",
    "\n",
    "feature_imp = pd.DataFrame(sorted(zip(model2.feature_importances_,cols)), columns=['Value','Feature'])\n",
    "plt.figure(figsize=(20, 10))\n",
    "sns.barplot(x=\"Value\", y=\"Feature\", data=feature_imp.sort_values(by=\"Value\", ascending=False).iloc[:50])\n",
    "plt.title('XGB95 Most Important Features')\n",
    "plt.tight_layout()\n",
    "plt.show()"
   ]
  },
  {
   "cell_type": "markdown",
   "metadata": {},
   "source": [
    "#### Cross validation framework setup for hyperparameters tuning"
   ]
  },
  {
   "cell_type": "code",
   "execution_count": null,
   "metadata": {},
   "outputs": [],
   "source": [
    "# also set up cross validation framework for hyperparameters tuning\n",
    "cv_scores = cross_validate(model2, X, y, cv =3 , scoring=('roc_auc')\\\n",
    "                           , return_train_score=True)"
   ]
  },
  {
   "cell_type": "code",
   "execution_count": 2,
   "metadata": {},
   "outputs": [
    {
     "name": "stdout",
     "output_type": "stream",
     "text": [
      "Collecting lightgbm\n",
      "  Downloading lightgbm-2.3.1-py2.py3-none-win_amd64.whl (544 kB)\n",
      "Requirement already satisfied: scikit-learn in c:\\users\\user\\anaconda3\\lib\\site-packages (from lightgbm) (0.21.2)\n",
      "Requirement already satisfied: scipy in c:\\users\\user\\anaconda3\\lib\\site-packages (from lightgbm) (1.2.1)\n",
      "Requirement already satisfied: numpy in c:\\users\\user\\anaconda3\\lib\\site-packages (from lightgbm) (1.16.4)\n",
      "Requirement already satisfied: joblib>=0.11 in c:\\users\\user\\anaconda3\\lib\\site-packages (from scikit-learn->lightgbm) (0.13.2)\n",
      "Installing collected packages: lightgbm\n",
      "Successfully installed lightgbm-2.3.1\n",
      "Note: you may need to restart the kernel to use updated packages.\n"
     ]
    }
   ],
   "source": [
    "pip install lightgbm"
   ]
  },
  {
   "cell_type": "code",
   "execution_count": 4,
   "metadata": {},
   "outputs": [
    {
     "name": "stdout",
     "output_type": "stream",
     "text": [
      "Collecting xgboost\n",
      "  Downloading xgboost-1.0.2-py3-none-win_amd64.whl (24.6 MB)\n",
      "Requirement already satisfied: numpy in c:\\users\\user\\anaconda3\\lib\\site-packages (from xgboost) (1.16.4)\n",
      "Requirement already satisfied: scipy in c:\\users\\user\\anaconda3\\lib\\site-packages (from xgboost) (1.2.1)\n",
      "Installing collected packages: xgboost\n",
      "Successfully installed xgboost-1.0.2\n",
      "Note: you may need to restart the kernel to use updated packages.\n"
     ]
    }
   ],
   "source": [
    "pip install xgboost"
   ]
  },
  {
   "cell_type": "markdown",
   "metadata": {},
   "source": [
    "# LGBM Classifier"
   ]
  },
  {
   "cell_type": "code",
   "execution_count": 33,
   "metadata": {},
   "outputs": [],
   "source": [
    "import numpy as np\n",
    "import pandas as pd\n",
    "from sklearn import preprocessing\n",
    "import gc, datetime, random\n",
    "import lightgbm as lgb\n",
    "import xgboost as xgb\n",
    "from sklearn.model_selection import KFold\n",
    "from sklearn.preprocessing import LabelEncoder\n",
    "import matplotlib.pyplot as plt\n",
    "import seaborn as sns\n",
    "from sklearn.metrics import roc_auc_score\n",
    "import pickle\n",
    "from sklearn.model_selection import train_test_split, cross_validate\n",
    "from sklearn.metrics import accuracy_score, roc_auc_score, roc_curve\n",
    "from sklearn.metrics import make_scorer\n",
    "from sklearn.metrics import confusion_matrix"
   ]
  },
  {
   "cell_type": "markdown",
   "metadata": {},
   "source": [
    "### Data Preprocessing\n",
    "\n",
    "\n",
    "1) Preprocessing applied to all files: - Features with > 90% data missing or > 90% data with the same value were dropped - If possible, categorical variables with 100s of categories were mapped to coaser categoricals - Correlation plot analysis done on \"V\" columns and columns were dropped reduce collinearlity - https://www.kaggle.com/cdeotte/eda-for-columns-v-and-id - Some \"D\" columns were normalized for time - Aggregate features were added using \"magic\" technique - https://www.kaggle.com/cdeotte/xgb-fraud-with-magic-0-9600#How-the-Magic-Works - Dropped TransactionID and TransactionDT\n",
    "\n",
    "2) Specific preprocessing applied based on classifiers:\n",
    "\n",
    "#### Response variable\n",
    "y_train.pkl\n",
    "- contains binary fraud/notfraud response for training dataset\n",
    "\n",
    "#### cleanLGBM.zip\n",
    "\n",
    "LGBM_{train, test}_X_1.pkl\n",
    "\n",
    "- Full 200 features from output of 1) above\n",
    "- No dummy creation\n",
    "    \n",
    "LGBM_{train, test}_X_2.pkl\n",
    "\n",
    "- Removed additional features\n",
    "        - Highly correlated \"C\", \"D\" features\n",
    "        - Removed features Chris (1st place winners) removed\n",
    "        - Removed caterogical features withh 200+ categories even after 1)\n",
    "- No dummy creation\n",
    "    \n",
    "LGBM_{train, test}_X_3.pkl\n",
    "\n",
    "- Exact same as LGBM_{train, test}_X_1.pkl except NAs filled with -999\n",
    "    \n",
    "LGBM_{train, test}_X_4.pkl\n",
    "\n",
    "- Exact same as LGBM_{train, test}_X_2.pkl except NAs filled with -999"
   ]
  },
  {
   "cell_type": "code",
   "execution_count": 3,
   "metadata": {},
   "outputs": [],
   "source": [
    "# Response isFraud for training data\n",
    "infile = open('train_y.pkl','rb')\n",
    "trainY_data = pickle.load(infile)\n",
    "infile.close()"
   ]
  },
  {
   "cell_type": "code",
   "execution_count": 4,
   "metadata": {},
   "outputs": [],
   "source": [
    "# Full 200 features with categorical features\n",
    "infile = open('LGBM_train_X_1.pkl','rb')\n",
    "trainX1_data = pickle.load(infile)\n",
    "infile.close()"
   ]
  },
  {
   "cell_type": "code",
   "execution_count": 5,
   "metadata": {},
   "outputs": [],
   "source": [
    "# Full 200 features without categorical features\n",
    "infile = open('LGBM_train_X_2.pkl','rb')\n",
    "trainX2_data = pickle.load(infile)\n",
    "infile.close()"
   ]
  },
  {
   "cell_type": "code",
   "execution_count": 6,
   "metadata": {},
   "outputs": [],
   "source": [
    "# Full 200 features with categorical features and N/A replaced with -999\n",
    "infile = open('LGBM_train_X_3.pkl','rb')\n",
    "trainX3_data = pickle.load(infile)\n",
    "infile.close()"
   ]
  },
  {
   "cell_type": "code",
   "execution_count": 7,
   "metadata": {},
   "outputs": [],
   "source": [
    "# Full 200 features without categorical features and N/A replaced with -999\n",
    "infile = open('LGBM_train_X_4.pkl','rb')\n",
    "trainX4_data = pickle.load(infile)\n",
    "infile.close()"
   ]
  },
  {
   "cell_type": "code",
   "execution_count": 8,
   "metadata": {},
   "outputs": [],
   "source": [
    "infile2 = open('LGBM_test_X_3.pkl','rb')\n",
    "testX3_data = pickle.load(infile2)\n",
    "infile2.close()"
   ]
  },
  {
   "cell_type": "code",
   "execution_count": 9,
   "metadata": {},
   "outputs": [
    {
     "data": {
      "text/plain": [
       "(590540, 200)"
      ]
     },
     "execution_count": 9,
     "metadata": {},
     "output_type": "execute_result"
    }
   ],
   "source": [
    "trainX1_data.shape"
   ]
  },
  {
   "cell_type": "code",
   "execution_count": 10,
   "metadata": {},
   "outputs": [
    {
     "data": {
      "text/html": [
       "<div>\n",
       "<style scoped>\n",
       "    .dataframe tbody tr th:only-of-type {\n",
       "        vertical-align: middle;\n",
       "    }\n",
       "\n",
       "    .dataframe tbody tr th {\n",
       "        vertical-align: top;\n",
       "    }\n",
       "\n",
       "    .dataframe thead th {\n",
       "        text-align: right;\n",
       "    }\n",
       "</style>\n",
       "<table border=\"1\" class=\"dataframe\">\n",
       "  <thead>\n",
       "    <tr style=\"text-align: right;\">\n",
       "      <th></th>\n",
       "      <th>id_01</th>\n",
       "      <th>id_02</th>\n",
       "      <th>id_03</th>\n",
       "      <th>id_04</th>\n",
       "      <th>id_05</th>\n",
       "      <th>id_06</th>\n",
       "      <th>id_09</th>\n",
       "      <th>id_10</th>\n",
       "      <th>id_11</th>\n",
       "      <th>id_12</th>\n",
       "      <th>...</th>\n",
       "      <th>D9_card1_addr1_mean</th>\n",
       "      <th>D9_card1_addr1_std</th>\n",
       "      <th>D9_card1_addr1_P_emaildomain_mean</th>\n",
       "      <th>D9_card1_addr1_P_emaildomain_std</th>\n",
       "      <th>D11_card1_mean</th>\n",
       "      <th>D11_card1_std</th>\n",
       "      <th>D11_card1_addr1_mean</th>\n",
       "      <th>D11_card1_addr1_std</th>\n",
       "      <th>D11_card1_addr1_P_emaildomain_mean</th>\n",
       "      <th>D11_card1_addr1_P_emaildomain_std</th>\n",
       "    </tr>\n",
       "  </thead>\n",
       "  <tbody>\n",
       "    <tr>\n",
       "      <th>0</th>\n",
       "      <td>0.0</td>\n",
       "      <td>70787.0</td>\n",
       "      <td>NaN</td>\n",
       "      <td>NaN</td>\n",
       "      <td>NaN</td>\n",
       "      <td>NaN</td>\n",
       "      <td>NaN</td>\n",
       "      <td>NaN</td>\n",
       "      <td>100.0</td>\n",
       "      <td>NotFound</td>\n",
       "      <td>...</td>\n",
       "      <td>-1.000000</td>\n",
       "      <td>-1.000000</td>\n",
       "      <td>-1.000000</td>\n",
       "      <td>-1.000000</td>\n",
       "      <td>36.591064</td>\n",
       "      <td>245.096771</td>\n",
       "      <td>-1.000000</td>\n",
       "      <td>-1.000000</td>\n",
       "      <td>-1.000000</td>\n",
       "      <td>-1.000000</td>\n",
       "    </tr>\n",
       "    <tr>\n",
       "      <th>1</th>\n",
       "      <td>-5.0</td>\n",
       "      <td>98945.0</td>\n",
       "      <td>NaN</td>\n",
       "      <td>NaN</td>\n",
       "      <td>0.0</td>\n",
       "      <td>-5.0</td>\n",
       "      <td>NaN</td>\n",
       "      <td>NaN</td>\n",
       "      <td>100.0</td>\n",
       "      <td>NotFound</td>\n",
       "      <td>...</td>\n",
       "      <td>0.587087</td>\n",
       "      <td>0.304250</td>\n",
       "      <td>0.568182</td>\n",
       "      <td>0.279678</td>\n",
       "      <td>-15.737109</td>\n",
       "      <td>239.606186</td>\n",
       "      <td>-10.476201</td>\n",
       "      <td>240.390656</td>\n",
       "      <td>122.008369</td>\n",
       "      <td>259.420959</td>\n",
       "    </tr>\n",
       "    <tr>\n",
       "      <th>2</th>\n",
       "      <td>-5.0</td>\n",
       "      <td>191631.0</td>\n",
       "      <td>0.0</td>\n",
       "      <td>0.0</td>\n",
       "      <td>0.0</td>\n",
       "      <td>0.0</td>\n",
       "      <td>0.0</td>\n",
       "      <td>0.0</td>\n",
       "      <td>100.0</td>\n",
       "      <td>NotFound</td>\n",
       "      <td>...</td>\n",
       "      <td>0.180555</td>\n",
       "      <td>0.312731</td>\n",
       "      <td>0.180555</td>\n",
       "      <td>0.312731</td>\n",
       "      <td>-1.000000</td>\n",
       "      <td>-1.000000</td>\n",
       "      <td>-1.000000</td>\n",
       "      <td>-1.000000</td>\n",
       "      <td>-1.000000</td>\n",
       "      <td>-1.000000</td>\n",
       "    </tr>\n",
       "    <tr>\n",
       "      <th>3</th>\n",
       "      <td>-5.0</td>\n",
       "      <td>221832.0</td>\n",
       "      <td>NaN</td>\n",
       "      <td>NaN</td>\n",
       "      <td>0.0</td>\n",
       "      <td>-6.0</td>\n",
       "      <td>NaN</td>\n",
       "      <td>NaN</td>\n",
       "      <td>100.0</td>\n",
       "      <td>NotFound</td>\n",
       "      <td>...</td>\n",
       "      <td>0.502091</td>\n",
       "      <td>0.344820</td>\n",
       "      <td>0.500888</td>\n",
       "      <td>0.342004</td>\n",
       "      <td>-1.000000</td>\n",
       "      <td>-1.000000</td>\n",
       "      <td>-1.000000</td>\n",
       "      <td>-1.000000</td>\n",
       "      <td>-1.000000</td>\n",
       "      <td>-1.000000</td>\n",
       "    </tr>\n",
       "    <tr>\n",
       "      <th>4</th>\n",
       "      <td>0.0</td>\n",
       "      <td>7460.0</td>\n",
       "      <td>0.0</td>\n",
       "      <td>0.0</td>\n",
       "      <td>1.0</td>\n",
       "      <td>0.0</td>\n",
       "      <td>0.0</td>\n",
       "      <td>0.0</td>\n",
       "      <td>100.0</td>\n",
       "      <td>NotFound</td>\n",
       "      <td>...</td>\n",
       "      <td>0.020833</td>\n",
       "      <td>0.029462</td>\n",
       "      <td>0.000000</td>\n",
       "      <td>-1.000000</td>\n",
       "      <td>-55.242935</td>\n",
       "      <td>227.626068</td>\n",
       "      <td>-37.553299</td>\n",
       "      <td>239.139923</td>\n",
       "      <td>-1.000000</td>\n",
       "      <td>-1.000000</td>\n",
       "    </tr>\n",
       "  </tbody>\n",
       "</table>\n",
       "<p>5 rows × 200 columns</p>\n",
       "</div>"
      ],
      "text/plain": [
       "   id_01     id_02  id_03  id_04  id_05  id_06  id_09  id_10  id_11     id_12  \\\n",
       "0    0.0   70787.0    NaN    NaN    NaN    NaN    NaN    NaN  100.0  NotFound   \n",
       "1   -5.0   98945.0    NaN    NaN    0.0   -5.0    NaN    NaN  100.0  NotFound   \n",
       "2   -5.0  191631.0    0.0    0.0    0.0    0.0    0.0    0.0  100.0  NotFound   \n",
       "3   -5.0  221832.0    NaN    NaN    0.0   -6.0    NaN    NaN  100.0  NotFound   \n",
       "4    0.0    7460.0    0.0    0.0    1.0    0.0    0.0    0.0  100.0  NotFound   \n",
       "\n",
       "   ...  D9_card1_addr1_mean  D9_card1_addr1_std  \\\n",
       "0  ...            -1.000000           -1.000000   \n",
       "1  ...             0.587087            0.304250   \n",
       "2  ...             0.180555            0.312731   \n",
       "3  ...             0.502091            0.344820   \n",
       "4  ...             0.020833            0.029462   \n",
       "\n",
       "  D9_card1_addr1_P_emaildomain_mean D9_card1_addr1_P_emaildomain_std  \\\n",
       "0                         -1.000000                        -1.000000   \n",
       "1                          0.568182                         0.279678   \n",
       "2                          0.180555                         0.312731   \n",
       "3                          0.500888                         0.342004   \n",
       "4                          0.000000                        -1.000000   \n",
       "\n",
       "   D11_card1_mean  D11_card1_std  D11_card1_addr1_mean D11_card1_addr1_std  \\\n",
       "0       36.591064     245.096771             -1.000000           -1.000000   \n",
       "1      -15.737109     239.606186            -10.476201          240.390656   \n",
       "2       -1.000000      -1.000000             -1.000000           -1.000000   \n",
       "3       -1.000000      -1.000000             -1.000000           -1.000000   \n",
       "4      -55.242935     227.626068            -37.553299          239.139923   \n",
       "\n",
       "  D11_card1_addr1_P_emaildomain_mean D11_card1_addr1_P_emaildomain_std  \n",
       "0                          -1.000000                         -1.000000  \n",
       "1                         122.008369                        259.420959  \n",
       "2                          -1.000000                         -1.000000  \n",
       "3                          -1.000000                         -1.000000  \n",
       "4                          -1.000000                         -1.000000  \n",
       "\n",
       "[5 rows x 200 columns]"
      ]
     },
     "execution_count": 10,
     "metadata": {},
     "output_type": "execute_result"
    }
   ],
   "source": [
    "trainX1_data.head()"
   ]
  },
  {
   "cell_type": "code",
   "execution_count": 13,
   "metadata": {},
   "outputs": [
    {
     "data": {
      "text/html": [
       "<div>\n",
       "<style scoped>\n",
       "    .dataframe tbody tr th:only-of-type {\n",
       "        vertical-align: middle;\n",
       "    }\n",
       "\n",
       "    .dataframe tbody tr th {\n",
       "        vertical-align: top;\n",
       "    }\n",
       "\n",
       "    .dataframe thead th {\n",
       "        text-align: right;\n",
       "    }\n",
       "</style>\n",
       "<table border=\"1\" class=\"dataframe\">\n",
       "  <thead>\n",
       "    <tr style=\"text-align: right;\">\n",
       "      <th></th>\n",
       "      <th>id_01</th>\n",
       "      <th>id_02</th>\n",
       "      <th>id_03</th>\n",
       "      <th>id_04</th>\n",
       "      <th>id_05</th>\n",
       "      <th>id_06</th>\n",
       "      <th>id_09</th>\n",
       "      <th>id_10</th>\n",
       "      <th>id_11</th>\n",
       "      <th>id_12</th>\n",
       "      <th>...</th>\n",
       "      <th>D9_card1_addr1_mean</th>\n",
       "      <th>D9_card1_addr1_std</th>\n",
       "      <th>D9_card1_addr1_P_emaildomain_mean</th>\n",
       "      <th>D9_card1_addr1_P_emaildomain_std</th>\n",
       "      <th>D11_card1_mean</th>\n",
       "      <th>D11_card1_std</th>\n",
       "      <th>D11_card1_addr1_mean</th>\n",
       "      <th>D11_card1_addr1_std</th>\n",
       "      <th>D11_card1_addr1_P_emaildomain_mean</th>\n",
       "      <th>D11_card1_addr1_P_emaildomain_std</th>\n",
       "    </tr>\n",
       "  </thead>\n",
       "  <tbody>\n",
       "    <tr>\n",
       "      <th>0</th>\n",
       "      <td>-45.0</td>\n",
       "      <td>280290.0</td>\n",
       "      <td>-999.0</td>\n",
       "      <td>-999.0</td>\n",
       "      <td>0.0</td>\n",
       "      <td>0.0</td>\n",
       "      <td>-999.0</td>\n",
       "      <td>-999.0</td>\n",
       "      <td>100.0</td>\n",
       "      <td>NotFound</td>\n",
       "      <td>...</td>\n",
       "      <td>0.489465</td>\n",
       "      <td>0.344575</td>\n",
       "      <td>0.494866</td>\n",
       "      <td>0.344653</td>\n",
       "      <td>-1.000000</td>\n",
       "      <td>-1.0</td>\n",
       "      <td>-1.0</td>\n",
       "      <td>-1.0</td>\n",
       "      <td>-1.0</td>\n",
       "      <td>-1.0</td>\n",
       "    </tr>\n",
       "    <tr>\n",
       "      <th>1</th>\n",
       "      <td>0.0</td>\n",
       "      <td>3579.0</td>\n",
       "      <td>0.0</td>\n",
       "      <td>0.0</td>\n",
       "      <td>0.0</td>\n",
       "      <td>0.0</td>\n",
       "      <td>0.0</td>\n",
       "      <td>0.0</td>\n",
       "      <td>100.0</td>\n",
       "      <td>Found</td>\n",
       "      <td>...</td>\n",
       "      <td>0.609375</td>\n",
       "      <td>0.375289</td>\n",
       "      <td>0.609375</td>\n",
       "      <td>0.375289</td>\n",
       "      <td>-1.000000</td>\n",
       "      <td>-1.0</td>\n",
       "      <td>-1.0</td>\n",
       "      <td>-1.0</td>\n",
       "      <td>-1.0</td>\n",
       "      <td>-1.0</td>\n",
       "    </tr>\n",
       "    <tr>\n",
       "      <th>2</th>\n",
       "      <td>-5.0</td>\n",
       "      <td>185210.0</td>\n",
       "      <td>-999.0</td>\n",
       "      <td>-999.0</td>\n",
       "      <td>1.0</td>\n",
       "      <td>0.0</td>\n",
       "      <td>-999.0</td>\n",
       "      <td>-999.0</td>\n",
       "      <td>100.0</td>\n",
       "      <td>NotFound</td>\n",
       "      <td>...</td>\n",
       "      <td>0.489465</td>\n",
       "      <td>0.344575</td>\n",
       "      <td>0.550251</td>\n",
       "      <td>0.350781</td>\n",
       "      <td>-1.000000</td>\n",
       "      <td>-1.0</td>\n",
       "      <td>-1.0</td>\n",
       "      <td>-1.0</td>\n",
       "      <td>-1.0</td>\n",
       "      <td>-1.0</td>\n",
       "    </tr>\n",
       "    <tr>\n",
       "      <th>3</th>\n",
       "      <td>-45.0</td>\n",
       "      <td>252944.0</td>\n",
       "      <td>0.0</td>\n",
       "      <td>0.0</td>\n",
       "      <td>0.0</td>\n",
       "      <td>0.0</td>\n",
       "      <td>0.0</td>\n",
       "      <td>0.0</td>\n",
       "      <td>100.0</td>\n",
       "      <td>NotFound</td>\n",
       "      <td>...</td>\n",
       "      <td>0.489465</td>\n",
       "      <td>0.344575</td>\n",
       "      <td>0.494866</td>\n",
       "      <td>0.344653</td>\n",
       "      <td>-1.000000</td>\n",
       "      <td>-1.0</td>\n",
       "      <td>-1.0</td>\n",
       "      <td>-1.0</td>\n",
       "      <td>-1.0</td>\n",
       "      <td>-1.0</td>\n",
       "    </tr>\n",
       "    <tr>\n",
       "      <th>4</th>\n",
       "      <td>-95.0</td>\n",
       "      <td>328680.0</td>\n",
       "      <td>-999.0</td>\n",
       "      <td>-999.0</td>\n",
       "      <td>7.0</td>\n",
       "      <td>-33.0</td>\n",
       "      <td>-999.0</td>\n",
       "      <td>-999.0</td>\n",
       "      <td>100.0</td>\n",
       "      <td>NotFound</td>\n",
       "      <td>...</td>\n",
       "      <td>0.498389</td>\n",
       "      <td>0.341319</td>\n",
       "      <td>0.492810</td>\n",
       "      <td>0.339882</td>\n",
       "      <td>-220.265182</td>\n",
       "      <td>-1.0</td>\n",
       "      <td>-1.0</td>\n",
       "      <td>-1.0</td>\n",
       "      <td>-1.0</td>\n",
       "      <td>-1.0</td>\n",
       "    </tr>\n",
       "  </tbody>\n",
       "</table>\n",
       "<p>5 rows × 200 columns</p>\n",
       "</div>"
      ],
      "text/plain": [
       "   id_01     id_02  id_03  id_04  id_05  id_06  id_09  id_10  id_11     id_12  \\\n",
       "0  -45.0  280290.0 -999.0 -999.0    0.0    0.0 -999.0 -999.0  100.0  NotFound   \n",
       "1    0.0    3579.0    0.0    0.0    0.0    0.0    0.0    0.0  100.0     Found   \n",
       "2   -5.0  185210.0 -999.0 -999.0    1.0    0.0 -999.0 -999.0  100.0  NotFound   \n",
       "3  -45.0  252944.0    0.0    0.0    0.0    0.0    0.0    0.0  100.0  NotFound   \n",
       "4  -95.0  328680.0 -999.0 -999.0    7.0  -33.0 -999.0 -999.0  100.0  NotFound   \n",
       "\n",
       "   ...  D9_card1_addr1_mean  D9_card1_addr1_std  \\\n",
       "0  ...             0.489465            0.344575   \n",
       "1  ...             0.609375            0.375289   \n",
       "2  ...             0.489465            0.344575   \n",
       "3  ...             0.489465            0.344575   \n",
       "4  ...             0.498389            0.341319   \n",
       "\n",
       "  D9_card1_addr1_P_emaildomain_mean D9_card1_addr1_P_emaildomain_std  \\\n",
       "0                          0.494866                         0.344653   \n",
       "1                          0.609375                         0.375289   \n",
       "2                          0.550251                         0.350781   \n",
       "3                          0.494866                         0.344653   \n",
       "4                          0.492810                         0.339882   \n",
       "\n",
       "   D11_card1_mean  D11_card1_std  D11_card1_addr1_mean D11_card1_addr1_std  \\\n",
       "0       -1.000000           -1.0                  -1.0                -1.0   \n",
       "1       -1.000000           -1.0                  -1.0                -1.0   \n",
       "2       -1.000000           -1.0                  -1.0                -1.0   \n",
       "3       -1.000000           -1.0                  -1.0                -1.0   \n",
       "4     -220.265182           -1.0                  -1.0                -1.0   \n",
       "\n",
       "  D11_card1_addr1_P_emaildomain_mean D11_card1_addr1_P_emaildomain_std  \n",
       "0                               -1.0                              -1.0  \n",
       "1                               -1.0                              -1.0  \n",
       "2                               -1.0                              -1.0  \n",
       "3                               -1.0                              -1.0  \n",
       "4                               -1.0                              -1.0  \n",
       "\n",
       "[5 rows x 200 columns]"
      ]
     },
     "execution_count": 13,
     "metadata": {},
     "output_type": "execute_result"
    }
   ],
   "source": [
    "testX3_data.head()"
   ]
  },
  {
   "cell_type": "code",
   "execution_count": 14,
   "metadata": {},
   "outputs": [
    {
     "data": {
      "text/plain": [
       "0    0\n",
       "1    0\n",
       "2    0\n",
       "3    0\n",
       "4    0\n",
       "Name: isFraud, dtype: int64"
      ]
     },
     "execution_count": 14,
     "metadata": {},
     "output_type": "execute_result"
    }
   ],
   "source": [
    "trainY_data.head()"
   ]
  },
  {
   "cell_type": "code",
   "execution_count": 15,
   "metadata": {},
   "outputs": [
    {
     "name": "stdout",
     "output_type": "stream",
     "text": [
      "<class 'pandas.core.frame.DataFrame'>\n",
      "Int64Index: 590540 entries, 0 to 590539\n",
      "Columns: 200 entries, id_01 to D11_card1_addr1_P_emaildomain_std\n",
      "dtypes: category(29), float32(26), float64(142), int32(2), int64(1)\n",
      "memory usage: 729.4 MB\n"
     ]
    }
   ],
   "source": [
    "for c in trainX1_data.columns:\n",
    "    col_type = trainX1_data[c].dtype\n",
    "    if col_type == 'object' or col_type.name == 'category':\n",
    "        trainX1_data[c] = trainX1_data[c].astype('category')\n",
    "trainX1_data.info()"
   ]
  },
  {
   "cell_type": "code",
   "execution_count": 16,
   "metadata": {},
   "outputs": [
    {
     "name": "stdout",
     "output_type": "stream",
     "text": [
      "<class 'pandas.core.frame.DataFrame'>\n",
      "Int64Index: 590540 entries, 0 to 590539\n",
      "Columns: 171 entries, id_01 to D11_card1_addr1_P_emaildomain_std\n",
      "dtypes: category(20), float32(26), float64(122), int32(2), int64(1)\n",
      "memory usage: 633.0 MB\n"
     ]
    }
   ],
   "source": [
    "for c in trainX2_data.columns:\n",
    "    col_type = trainX2_data[c].dtype\n",
    "    if col_type == 'object' or col_type.name == 'category':\n",
    "        trainX2_data[c] = trainX2_data[c].astype('category')\n",
    "trainX2_data.info()"
   ]
  },
  {
   "cell_type": "code",
   "execution_count": 17,
   "metadata": {},
   "outputs": [
    {
     "name": "stdout",
     "output_type": "stream",
     "text": [
      "<class 'pandas.core.frame.DataFrame'>\n",
      "Int64Index: 590540 entries, 0 to 590539\n",
      "Columns: 200 entries, id_01 to D11_card1_addr1_P_emaildomain_std\n",
      "dtypes: category(29), float32(26), float64(142), int32(2), int64(1)\n",
      "memory usage: 729.4 MB\n"
     ]
    }
   ],
   "source": [
    "for c in trainX3_data.columns:\n",
    "    col_type = trainX3_data[c].dtype\n",
    "    if col_type == 'object' or col_type.name == 'category':\n",
    "        trainX3_data[c] = trainX3_data[c].astype('category')\n",
    "trainX3_data.info()"
   ]
  },
  {
   "cell_type": "code",
   "execution_count": 18,
   "metadata": {},
   "outputs": [
    {
     "name": "stdout",
     "output_type": "stream",
     "text": [
      "<class 'pandas.core.frame.DataFrame'>\n",
      "Int64Index: 590540 entries, 0 to 590539\n",
      "Columns: 171 entries, id_01 to D11_card1_addr1_P_emaildomain_std\n",
      "dtypes: category(20), float32(26), float64(122), int32(2), int64(1)\n",
      "memory usage: 633.0 MB\n"
     ]
    }
   ],
   "source": [
    "for c in trainX4_data.columns:\n",
    "    col_type = trainX4_data[c].dtype\n",
    "    if col_type == 'object' or col_type.name == 'category':\n",
    "        trainX4_data[c] = trainX4_data[c].astype('category')\n",
    "trainX4_data.info()"
   ]
  },
  {
   "cell_type": "code",
   "execution_count": 19,
   "metadata": {},
   "outputs": [],
   "source": [
    "# Splitting the dataset into the Training set and Test set\n",
    "seed = 123\n",
    "test_size = 0.3\n",
    "X1_train, X1_test, y1_train, y1_test = train_test_split(trainX1_data, trainY_data, test_size = test_size, random_state = seed)"
   ]
  },
  {
   "cell_type": "code",
   "execution_count": 20,
   "metadata": {},
   "outputs": [],
   "source": [
    "# Splitting the dataset into the Training set and Test set\n",
    "seed = 123\n",
    "test_size = 0.3\n",
    "X2_train, X2_test, y2_train, y2_test = train_test_split(trainX2_data, trainY_data, test_size = test_size, random_state = seed)"
   ]
  },
  {
   "cell_type": "code",
   "execution_count": 21,
   "metadata": {},
   "outputs": [],
   "source": [
    "# Splitting the dataset into the Training set and Test set\n",
    "seed = 123\n",
    "test_size = 0.3\n",
    "X3_train, X3_test, y3_train, y3_test = train_test_split(trainX3_data, trainY_data, test_size = test_size, random_state = seed)"
   ]
  },
  {
   "cell_type": "code",
   "execution_count": 22,
   "metadata": {},
   "outputs": [],
   "source": [
    "# Splitting the dataset into the Training set and Test set\n",
    "seed = 123\n",
    "test_size = 0.3\n",
    "X4_train, X4_test, y4_train, y4_test = train_test_split(trainX4_data, trainY_data, test_size = test_size, random_state = seed)"
   ]
  },
  {
   "cell_type": "code",
   "execution_count": 23,
   "metadata": {},
   "outputs": [
    {
     "data": {
      "text/plain": [
       "array([ 9, 12, 13, 17, 18, 19, 20, 22, 23, 24, 25, 26, 27, 28, 29, 31, 35,\n",
       "       37, 41, 42, 70, 71, 72, 73, 74, 75, 76, 77, 78], dtype=int64)"
      ]
     },
     "execution_count": 23,
     "metadata": {},
     "output_type": "execute_result"
    }
   ],
   "source": [
    "# Finding the columns of categorical features\n",
    "\n",
    "def column_index(df, query_cols):\n",
    "    cols = df.columns.values\n",
    "    sidx = np.argsort(cols)\n",
    "    return sidx[np.searchsorted(cols,query_cols,sorter=sidx)]\n",
    "column_index(X1_train, ['id_12', 'id_15', 'id_16', 'id_28', 'id_29', 'id_30', 'id_31', 'id_33', 'id_34', 'id_35', 'id_36', 'id_37', 'id_38', 'DeviceType', 'DeviceInfo', 'ProductCD', 'card4', 'card6', 'P_emaildomain', 'R_emaildomain', 'M1', 'M2', 'M3', 'M4', 'M5', 'M6', 'M7', 'M8', 'M9'])"
   ]
  },
  {
   "cell_type": "code",
   "execution_count": 24,
   "metadata": {},
   "outputs": [],
   "source": [
    "#NOT run yet\n",
    "\n",
    "\n",
    "# Feature Scaling\n",
    "#from sklearn.preprocessing import StandardScaler\n",
    "#sc = preprocessing.StandardScaler()\n",
    "#X_train = sc.fit_transform(X_train)\n",
    "#X_test = sc.transform(X_test)"
   ]
  },
  {
   "cell_type": "code",
   "execution_count": 25,
   "metadata": {},
   "outputs": [],
   "source": [
    "#le = preprocessing.LabelEncoder()\n",
    "#le.fit(['id_12', 'id_15', 'id_16', 'id_28', 'id_29', 'id_30', 'id_31', 'id_33', 'id_34', 'id_35', 'id_36', 'id_37', 'id_38', 'DeviceType', 'DeviceInfo', 'ProductCD', 'card4', 'card6', 'P_emaildomain', 'R_emaildomain', 'M1', 'M2', 'M3', 'M4', 'M5', 'M6', 'M7', 'M8', 'M9'])\n",
    "#LabelEncoder()"
   ]
  },
  {
   "cell_type": "code",
   "execution_count": 26,
   "metadata": {},
   "outputs": [],
   "source": [
    "#Converting our training data into LightGBM dataset format\n",
    "\n",
    "d_train1 = lgb.Dataset(X1_train, label=y1_train)\n",
    "d_train2 = lgb.Dataset(X2_train, label=y2_train)\n",
    "d_train3 = lgb.Dataset(X3_train, label=y3_train)\n",
    "d_train4 = lgb.Dataset(X4_train, label=y4_train)"
   ]
  },
  {
   "cell_type": "code",
   "execution_count": 27,
   "metadata": {},
   "outputs": [],
   "source": [
    "params = {'num_leaves': 546,\n",
    "          'min_child_weight': 0.03454472573214212,\n",
    "          'feature_fraction': 0.1797454081646243,\n",
    "          'bagging_fraction': 0.2181193142567742,\n",
    "          'min_data_in_leaf': 106,\n",
    "          'objective': 'binary',\n",
    "          'max_depth': -1,\n",
    "          'learning_rate': 0.005883242363721497,\n",
    "          \"boosting_type\": \"gbdt\",\n",
    "          \"bagging_seed\": 11,\n",
    "          \"metric\": 'binary_logloss',\n",
    "          \"verbosity\": -1,\n",
    "          'reg_alpha': 0.3299927210061127,\n",
    "          'reg_lambda': 0.3885237330340494,\n",
    "          'random_state': 42,\n",
    "          'categorical_feature' : 'auto'\n",
    "}\n",
    "#[9, 12, 13, 17, 18, 19, 20, 22, 23, 24, 25, 26, 27, 28, 29, 31, 35,37, 41, 42, 70, 71, 72, 73, 74, 75, 76, 77, 78]\n",
    "#metric = \"binary_logloss\"\n",
    "#metric = \"auc\""
   ]
  },
  {
   "cell_type": "code",
   "execution_count": 37,
   "metadata": {},
   "outputs": [
    {
     "name": "stderr",
     "output_type": "stream",
     "text": [
      "C:\\Users\\User\\Anaconda3\\lib\\site-packages\\lightgbm\\basic.py:842: UserWarning: categorical_feature keyword has been found in `params` and will be ignored.\n",
      "Please use categorical_feature argument of the Dataset constructor to pass this parameter.\n",
      "  .format(key))\n",
      "C:\\Users\\User\\Anaconda3\\lib\\site-packages\\lightgbm\\basic.py:863: UserWarning: categorical_feature in param dict is overridden.\n",
      "  warnings.warn('{} in param dict is overridden.'.format(cat_alias))\n"
     ]
    }
   ],
   "source": [
    "#clf = lgb.train(params, d_train1, 100)\n",
    "model1 = lgb.train(params, d_train1, 100)"
   ]
  },
  {
   "cell_type": "code",
   "execution_count": 38,
   "metadata": {},
   "outputs": [],
   "source": [
    "model2 = lgb.train(params, d_train2, 100)"
   ]
  },
  {
   "cell_type": "code",
   "execution_count": 28,
   "metadata": {},
   "outputs": [
    {
     "name": "stderr",
     "output_type": "stream",
     "text": [
      "C:\\Users\\User\\Anaconda3\\lib\\site-packages\\lightgbm\\basic.py:842: UserWarning: categorical_feature keyword has been found in `params` and will be ignored.\n",
      "Please use categorical_feature argument of the Dataset constructor to pass this parameter.\n",
      "  .format(key))\n",
      "C:\\Users\\User\\Anaconda3\\lib\\site-packages\\lightgbm\\basic.py:863: UserWarning: categorical_feature in param dict is overridden.\n",
      "  warnings.warn('{} in param dict is overridden.'.format(cat_alias))\n"
     ]
    }
   ],
   "source": [
    "model3 = lgb.train(params, d_train3, 100)"
   ]
  },
  {
   "cell_type": "code",
   "execution_count": 29,
   "metadata": {},
   "outputs": [],
   "source": [
    "model4 = lgb.train(params, d_train4, 100)"
   ]
  },
  {
   "cell_type": "code",
   "execution_count": 39,
   "metadata": {},
   "outputs": [],
   "source": [
    "#Prediction\n",
    "y1_pred=model1.predict(X1_test)\n",
    "#convert into binary values\n",
    "for i in range(len(y1_pred)):\n",
    "    if y1_pred[i]>=.5:       # setting threshold to .5\n",
    "        y1_pred[i]=1\n",
    "    else:  \n",
    "        y1_pred[i]=0"
   ]
  },
  {
   "cell_type": "code",
   "execution_count": 40,
   "metadata": {},
   "outputs": [],
   "source": [
    "#Prediction\n",
    "y2_pred=model2.predict(X2_test)\n",
    "#convert into binary values\n",
    "for i in range(len(y2_pred)):\n",
    "    if y2_pred[i]>=.5:       # setting threshold to .5\n",
    "        y2_pred[i]=1\n",
    "    else:  \n",
    "        y2_pred[i]=0"
   ]
  },
  {
   "cell_type": "code",
   "execution_count": 41,
   "metadata": {},
   "outputs": [],
   "source": [
    "#Prediction\n",
    "y3_pred=model3.predict(X3_test)\n",
    "#convert into binary values\n",
    "for i in range(len(y3_pred)):\n",
    "    if y3_pred[i]>=.5:       # setting threshold to .5\n",
    "        y3_pred[i]=1\n",
    "    else:  \n",
    "        y3_pred[i]=0"
   ]
  },
  {
   "cell_type": "code",
   "execution_count": 42,
   "metadata": {},
   "outputs": [],
   "source": [
    "#Prediction\n",
    "y4_pred=model4.predict(X4_test)\n",
    "#convert into binary values\n",
    "for i in range(len(y4_pred)):\n",
    "    if y4_pred[i]>=.5:       # setting threshold to .5\n",
    "        y4_pred[i]=1\n",
    "    else:  \n",
    "        y4_pred[i]=0"
   ]
  },
  {
   "cell_type": "code",
   "execution_count": 43,
   "metadata": {},
   "outputs": [
    {
     "name": "stdout",
     "output_type": "stream",
     "text": [
      "Model 1\n",
      "Confusion matrix [[170996      0]\n",
      " [  6164      2]]\n",
      "Accuracy score: 96.52%\n",
      "ROC_AUC score: 93.12%\n"
     ]
    }
   ],
   "source": [
    "#Confusion matrix\n",
    "print(\"Model 1\")\n",
    "cm = confusion_matrix(y1_test, y1_pred)\n",
    "print(\"Confusion matrix\",cm)\n",
    "\n",
    "#Accuracy\n",
    "accuracy=accuracy_score(y1_pred,y1_test)\n",
    "print(f\"Accuracy score: {accuracy* 100:.2f}%\")\n",
    "\n",
    "#ROC AUC Score\n",
    "y1_pred=model1.predict(X1_test)\n",
    "auc_score = roc_auc_score(y1_test, y1_pred)\n",
    "print(f\"ROC_AUC score: {auc_score* 100:.2f}%\")"
   ]
  },
  {
   "cell_type": "code",
   "execution_count": 46,
   "metadata": {},
   "outputs": [
    {
     "name": "stdout",
     "output_type": "stream",
     "text": [
      "Model 2\n",
      "Confusion matrix [[170996      0]\n",
      " [  6161      5]]\n",
      "Accuracy score: 96.52%\n",
      "ROC_AUC score: 92.87%\n"
     ]
    }
   ],
   "source": [
    "#Confusion matrix\n",
    "print(\"Model 2\")\n",
    "cm = confusion_matrix(y2_test, y2_pred)\n",
    "print(\"Confusion matrix\",cm)\n",
    "\n",
    "#Accuracy\n",
    "accuracy=accuracy_score(y2_pred,y2_test)\n",
    "print(f\"Accuracy score: {accuracy* 100:.2f}%\")\n",
    "\n",
    "#ROC AUC Score\n",
    "y2_pred=model2.predict(X2_test)\n",
    "auc_score = roc_auc_score(y2_test, y2_pred)\n",
    "print(f\"ROC_AUC score: {auc_score* 100:.2f}%\")"
   ]
  },
  {
   "cell_type": "code",
   "execution_count": 47,
   "metadata": {},
   "outputs": [
    {
     "name": "stdout",
     "output_type": "stream",
     "text": [
      "Model 3\n",
      "Confusion matrix [[170996      0]\n",
      " [  6165      1]]\n",
      "Accuracy score: 96.52%\n",
      "ROC_AUC score: 93.17%\n"
     ]
    }
   ],
   "source": [
    "#Confusion matrix\n",
    "print(\"Model 3\")\n",
    "cm = confusion_matrix(y3_test, y3_pred)\n",
    "print(\"Confusion matrix\",cm)\n",
    "\n",
    "#Accuracy\n",
    "accuracy=accuracy_score(y3_pred,y3_test)\n",
    "print(f\"Accuracy score: {accuracy* 100:.2f}%\")\n",
    "\n",
    "#ROC AUC Score\n",
    "y3_pred=model3.predict(X3_test)\n",
    "auc_score = roc_auc_score(y3_test, y3_pred)\n",
    "print(f\"ROC_AUC score: {auc_score* 100:.2f}%\")"
   ]
  },
  {
   "cell_type": "code",
   "execution_count": 36,
   "metadata": {},
   "outputs": [
    {
     "name": "stdout",
     "output_type": "stream",
     "text": [
      "Model 4\n",
      "Confusion matrix [[170996      0]\n",
      " [  6162      4]]\n",
      "Accuracy score: 96.52%\n",
      "ROC_AUC score: 92.88%\n"
     ]
    }
   ],
   "source": [
    "#Confusion matrix\n",
    "print(\"Model 4\")\n",
    "cm = confusion_matrix(y4_test, y4_pred)\n",
    "print(\"Confusion matrix\",cm)\n",
    "\n",
    "#Accuracy\n",
    "accuracy=accuracy_score(y4_pred,y4_test)\n",
    "print(f\"Accuracy score: {accuracy* 100:.2f}%\")\n",
    "\n",
    "#ROC AUC Score\n",
    "y4_pred=model4.predict(X4_test)\n",
    "auc_score = roc_auc_score(y4_test, y4_pred)\n",
    "print(f\"ROC_AUC score: {auc_score* 100:.2f}%\")"
   ]
  },
  {
   "cell_type": "code",
   "execution_count": 48,
   "metadata": {},
   "outputs": [],
   "source": [
    "m1_frp, m1_tpr, _ = roc_curve(y1_test, y1_pred)\n",
    "m2_frp, m2_tpr, _ = roc_curve(y2_test, y2_pred)\n",
    "m3_frp, m3_tpr, _ = roc_curve(y3_test, y3_pred)\n",
    "m4_frp, m4_tpr, _ = roc_curve(y4_test, y4_pred)"
   ]
  },
  {
   "cell_type": "code",
   "execution_count": 49,
   "metadata": {},
   "outputs": [
    {
     "data": {
      "image/png": "[encoded data removed]",
      "text/plain": [
       "<Figure size 1440x720 with 1 Axes>"
      ]
     },
     "metadata": {
      "needs_background": "light"
     },
     "output_type": "display_data"
    }
   ],
   "source": [
    "# plot ROC curve across models\n",
    "plt.figure(figsize=(20, 10))\n",
    "plt.plot(m1_frp, m1_tpr, marker = '.', label='LGBM X1 Model')\n",
    "plt.plot(m2_frp, m2_tpr, marker = '.', label='LGBM X2 Model')\n",
    "plt.plot(m3_frp, m3_tpr, marker = '.', label='LGBM X3 Model')\n",
    "plt.plot(m4_frp, m4_tpr, marker = '.', label='LGBM X4 Model')\n",
    "plt.title('ROC Curve')\n",
    "plt.xlabel('False Positive Rate')\n",
    "plt.ylabel('True Positive Rate')\n",
    "plt.legend()\n",
    "plt.show()"
   ]
  },
  {
   "cell_type": "code",
   "execution_count": null,
   "metadata": {},
   "outputs": [],
   "source": []
  }
 ],
 "metadata": {
  "kernelspec": {
   "display_name": "Python 3",
   "language": "python",
   "name": "python3"
  }
 },
 "nbformat": 4,
 "nbformat_minor": 4
}
