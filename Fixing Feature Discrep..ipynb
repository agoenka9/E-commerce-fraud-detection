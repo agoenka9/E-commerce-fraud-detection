{
 "cells": [
  {
   "cell_type": "code",
   "execution_count": 56,
   "metadata": {},
   "outputs": [
    {
     "name": "stdout",
     "output_type": "stream",
     "text": [
      "Initial Train shape (590540, 1323)\n",
      "Initial Test shape (506691, 1573)\n",
      "There are 360 columns in train but not in test.\n",
      "There are 610 columns in test but not in train.\n",
      "Final test shape (506691, 1323)\n",
      "Final train shape (590540, 1323)\n"
     ]
    }
   ],
   "source": [
    "import numpy as np\n",
    "import pandas as pd\n",
    "\n",
    "train_path = \"cleanXG_LR/XGBoost_LR_train_X_1.pkl\"\n",
    "test_path = \"cleanXG_LR/XGBoost_LR_test_X_1.pkl\"\n",
    "\n",
    "# Sample script to fix feature descrepancy b/w train and test\n",
    "train_X = pd.read_pickle(train_path)\n",
    "print(\"Initial Train shape\", train_X.shape)\n",
    "test_X = pd.read_pickle(test_path)\n",
    "print(\"Initial Test shape\", test_X.shape)\n",
    "\n",
    "# Difference between train and test columns\n",
    "train_col = set(train_X.columns)\n",
    "test_col = set(test_X.columns)\n",
    "\n",
    "only_train = train_col.difference(test_col)\n",
    "only_test = test_col.difference(train_col)\n",
    "\n",
    "print(\"There are\", len(only_train), \"columns in train but not in test.\")\n",
    "print(\"There are\", len(only_test), \"columns in test but not in train.\")\n",
    "\n",
    "# Option 3, keep train as in. Drop \"only test\" columns from test and add \"only train\" columns to test\n",
    "test_nrows = test_X.shape[0]\n",
    "test_X = test_X.drop(columns=only_test)\n",
    "test_X = pd.concat([test_X, pd.DataFrame(0, index=np.arange(test_nrows), columns=only_train)], axis=1)\n",
    "print(\"Final test shape\", test_X.shape)\n",
    "print(\"Final train shape\", train_X.shape)"
   ]
  }
 ],
 "metadata": {
  "kernelspec": {
   "display_name": "Python 3",
   "language": "python",
   "name": "python3"
  },
  "language_info": {
   "codemirror_mode": {
    "name": "ipython",
    "version": 3
   },
   "file_extension": ".py",
   "mimetype": "text/x-python",
   "name": "python",
   "nbconvert_exporter": "python",
   "pygments_lexer": "ipython3",
   "version": "3.6.9"
  }
 },
 "nbformat": 4,
 "nbformat_minor": 2
}
